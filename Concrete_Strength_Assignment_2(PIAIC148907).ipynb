{
  "nbformat": 4,
  "nbformat_minor": 0,
  "metadata": {
    "colab": {
      "name": "Concrete_Strength_Assignment 2(PIAIC148907).ipynb",
      "provenance": [],
      "collapsed_sections": []
    },
    "kernelspec": {
      "name": "python3",
      "display_name": "Python 3"
    },
    "language_info": {
      "name": "python"
    }
  },
  "cells": [
    {
      "cell_type": "markdown",
      "metadata": {
        "id": "1N_CBEBZoZgk"
      },
      "source": [
        "\n",
        "# Assignment: Compresive Strength Concrete Problem\n",
        "\n",
        "\n",
        "### Abstract: \n",
        "\n",
        "Concrete is the most important material in civil engineering. The concrete compressive strength (concrete strength to bear the load) is a highly nonlinear function of age and ingredients.  <br><br>\n",
        "\n",
        "<table border=\"1\"  cellpadding=\"6\" bordercolor=\"red\">\n",
        "\t<tbody>\n",
        "        <tr>\n",
        "\t\t<td bgcolor=\"#DDEEFF\"><p class=\"normal\"><b>Data Set Characteristics:&nbsp;&nbsp;</b></p></td>\n",
        "\t\t<td><p class=\"normal\">Multivariate</p></td>\n",
        "\t\t<td bgcolor=\"#DDEEFF\"><p class=\"normal\"><b>Number of Instances:</b></p></td>\n",
        "\t\t<td><p class=\"normal\">1030</p></td>\n",
        "\t\t<td bgcolor=\"#DDEEFF\"><p class=\"normal\"><b>Area:</b></p></td>\n",
        "\t\t<td><p class=\"normal\">Physical</p></td>\n",
        "        </tr>\n",
        "     </tbody>\n",
        "    </table>\n",
        "<table border=\"1\" cellpadding=\"6\">\n",
        "    <tbody>\n",
        "        <tr>\n",
        "            <td bgcolor=\"#DDEEFF\"><p class=\"normal\"><b>Attribute Characteristics:</b></p></td>\n",
        "            <td><p class=\"normal\">Real</p></td>\n",
        "            <td bgcolor=\"#DDEEFF\"><p class=\"normal\"><b>Number of Attributes:</b></p></td>\n",
        "            <td><p class=\"normal\">9</p></td>\n",
        "            <td bgcolor=\"#DDEEFF\"><p class=\"normal\"><b>Date Donated</b></p></td>\n",
        "            <td><p class=\"normal\">2007-08-03</p></td>\n",
        "        </tr>\n",
        "     </tbody>\n",
        "    </table>\n",
        "<table border=\"1\" cellpadding=\"6\">\t\n",
        "    <tbody>\n",
        "    <tr>\n",
        "\t\t<td bgcolor=\"#DDEEFF\"><p class=\"normal\"><b>Associated Tasks:</b></p></td>\n",
        "\t\t<td><p class=\"normal\">Regression</p></td>\n",
        "\t\t<td bgcolor=\"#DDEEFF\"><p class=\"normal\"><b>Missing Values?</b></p></td>\n",
        "\t\t<td><p class=\"normal\">N/A</p></td>\n",
        "\t\t<td bgcolor=\"#DDEEFF\"><p class=\"normal\"><b>Number of Web Hits:</b></p></td>\n",
        "\t\t<td><p class=\"normal\">231464</p></td>\n",
        "\t</tr>\n",
        "    </tbody>\n",
        "    </table>"
      ]
    },
    {
      "cell_type": "markdown",
      "metadata": {
        "id": "Ooj3XAoFo-Js"
      },
      "source": [
        "###  Description:\n",
        "| Features Name | Data Type | Measurement | Description |\n",
        "| -- | -- | -- | -- |\n",
        "Cement (component 1) | quantitative | kg in a m3 mixture | Input Variable\n",
        "Blast Furnace Slag (component 2) | quantitative | kg in a m3 mixture | Input Variable\n",
        "Fly Ash (component 3) | quantitative | kg in a m3 mixture | Input Variable\n",
        "Water (component 4) | quantitative | kg in a m3 mixture | Input Variable\n",
        "Superplasticizer (component 5) | quantitative | kg in a m3 mixture | Input Variable\n",
        "Coarse Aggregate (component 6) | quantitative | kg in a m3 mixture | Input Variable\n",
        "Fine Aggregate (component 7) | quantitative | kg in a m3 mixture | Input Variable\n",
        "Age | quantitative | Day (1~365) | Input Variable\n",
        "Concrete compressive strength | quantitative | MPa | Output Variable\n",
        "\n",
        "### WORKFLOW :\n",
        "- Load Data\n",
        "- Check Missing Values ( If Exist ; Fill each record with mean of its feature )\n",
        "- Standardized the Input Variables. **Hint**: Centeralized the data\n",
        "- Split into 50% Training(Samples,Labels) , 30% Test(Samples,Labels) and 20% Validation Data(Samples,Labels).\n",
        "- Model : input Layer (No. of features ), 3 hidden layers including 10,8,6 unit & Output Layer with activation function relu/tanh (check by experiment).\n",
        "- Compilation Step (Note : Its a Regression problem , select loss , metrics according to it)\n",
        "- Train the Model with Epochs (100) and validate it\n",
        "- If the model gets overfit tune your model by changing the units , No. of layers , activation function , epochs , add dropout layer or add Regularizer according to the need .\n",
        "- Evaluation Step\n",
        "- Prediction\n"
      ]
    },
    {
      "cell_type": "markdown",
      "metadata": {
        "id": "hBO0ykNvpKwM"
      },
      "source": [
        "/content/drive/MyDrive/concrete_data.csv\n",
        "\n",
        "https://github.com/AmmarBinTahir/piaic_q2_Assignments/blob/master/concrete_data.csv\n"
      ]
    },
    {
      "cell_type": "code",
      "metadata": {
        "id": "YrGvr7JBuKU-"
      },
      "source": [
        "import tensorflow as tf\n",
        "import numpy as np\n",
        "import pandas as pd\n",
        "from tensorflow.keras import models, layers , optimizers"
      ],
      "execution_count": null,
      "outputs": []
    },
    {
      "cell_type": "code",
      "metadata": {
        "colab": {
          "base_uri": "https://localhost:8080/"
        },
        "id": "0Hxo2IjOuOa-",
        "outputId": "08752ec8-043c-4a0d-e902-4a5cead3fbb9"
      },
      "source": [
        "from google.colab import drive\n",
        "drive.mount(\"/content/drive\")"
      ],
      "execution_count": null,
      "outputs": [
        {
          "output_type": "stream",
          "text": [
            "Mounted at /content/drive\n"
          ],
          "name": "stdout"
        }
      ]
    },
    {
      "cell_type": "code",
      "metadata": {
        "colab": {
          "base_uri": "https://localhost:8080/",
          "height": 204
        },
        "id": "rXtwcTU72JPA",
        "outputId": "902dc45b-6df8-4b29-f049-e840845d19c2"
      },
      "source": [
        "df= pd.read_csv(\"/content/drive/MyDrive/concrete_data.csv\")\n",
        "df.head()"
      ],
      "execution_count": null,
      "outputs": [
        {
          "output_type": "execute_result",
          "data": {
            "text/html": [
              "<div>\n",
              "<style scoped>\n",
              "    .dataframe tbody tr th:only-of-type {\n",
              "        vertical-align: middle;\n",
              "    }\n",
              "\n",
              "    .dataframe tbody tr th {\n",
              "        vertical-align: top;\n",
              "    }\n",
              "\n",
              "    .dataframe thead th {\n",
              "        text-align: right;\n",
              "    }\n",
              "</style>\n",
              "<table border=\"1\" class=\"dataframe\">\n",
              "  <thead>\n",
              "    <tr style=\"text-align: right;\">\n",
              "      <th></th>\n",
              "      <th>cement</th>\n",
              "      <th>blast_furnace_slag</th>\n",
              "      <th>fly_ash</th>\n",
              "      <th>water</th>\n",
              "      <th>superplasticizer</th>\n",
              "      <th>coarse_aggregate</th>\n",
              "      <th>fine_aggregate</th>\n",
              "      <th>age</th>\n",
              "      <th>concrete_compressive_strength</th>\n",
              "    </tr>\n",
              "  </thead>\n",
              "  <tbody>\n",
              "    <tr>\n",
              "      <th>0</th>\n",
              "      <td>540.0</td>\n",
              "      <td>0.0</td>\n",
              "      <td>0.0</td>\n",
              "      <td>162.0</td>\n",
              "      <td>2.5</td>\n",
              "      <td>1040.0</td>\n",
              "      <td>676.0</td>\n",
              "      <td>28</td>\n",
              "      <td>79.99</td>\n",
              "    </tr>\n",
              "    <tr>\n",
              "      <th>1</th>\n",
              "      <td>540.0</td>\n",
              "      <td>0.0</td>\n",
              "      <td>0.0</td>\n",
              "      <td>162.0</td>\n",
              "      <td>2.5</td>\n",
              "      <td>1055.0</td>\n",
              "      <td>676.0</td>\n",
              "      <td>28</td>\n",
              "      <td>61.89</td>\n",
              "    </tr>\n",
              "    <tr>\n",
              "      <th>2</th>\n",
              "      <td>332.5</td>\n",
              "      <td>142.5</td>\n",
              "      <td>0.0</td>\n",
              "      <td>228.0</td>\n",
              "      <td>0.0</td>\n",
              "      <td>932.0</td>\n",
              "      <td>594.0</td>\n",
              "      <td>270</td>\n",
              "      <td>40.27</td>\n",
              "    </tr>\n",
              "    <tr>\n",
              "      <th>3</th>\n",
              "      <td>332.5</td>\n",
              "      <td>142.5</td>\n",
              "      <td>0.0</td>\n",
              "      <td>228.0</td>\n",
              "      <td>0.0</td>\n",
              "      <td>932.0</td>\n",
              "      <td>594.0</td>\n",
              "      <td>365</td>\n",
              "      <td>41.05</td>\n",
              "    </tr>\n",
              "    <tr>\n",
              "      <th>4</th>\n",
              "      <td>198.6</td>\n",
              "      <td>132.4</td>\n",
              "      <td>0.0</td>\n",
              "      <td>192.0</td>\n",
              "      <td>0.0</td>\n",
              "      <td>978.4</td>\n",
              "      <td>825.5</td>\n",
              "      <td>360</td>\n",
              "      <td>44.30</td>\n",
              "    </tr>\n",
              "  </tbody>\n",
              "</table>\n",
              "</div>"
            ],
            "text/plain": [
              "   cement  blast_furnace_slag  ...  age  concrete_compressive_strength\n",
              "0   540.0                 0.0  ...   28                          79.99\n",
              "1   540.0                 0.0  ...   28                          61.89\n",
              "2   332.5               142.5  ...  270                          40.27\n",
              "3   332.5               142.5  ...  365                          41.05\n",
              "4   198.6               132.4  ...  360                          44.30\n",
              "\n",
              "[5 rows x 9 columns]"
            ]
          },
          "metadata": {
            "tags": []
          },
          "execution_count": 9
        }
      ]
    },
    {
      "cell_type": "code",
      "metadata": {
        "colab": {
          "base_uri": "https://localhost:8080/"
        },
        "id": "gSQTrcWx29ih",
        "outputId": "248499cc-b3d7-48d8-df95-15b7fc24ed08"
      },
      "source": [
        "df.isnull().sum()"
      ],
      "execution_count": null,
      "outputs": [
        {
          "output_type": "execute_result",
          "data": {
            "text/plain": [
              "cement                           0\n",
              "blast_furnace_slag               0\n",
              "fly_ash                          0\n",
              "water                            0\n",
              "superplasticizer                 0\n",
              "coarse_aggregate                 0\n",
              "fine_aggregate                   0\n",
              "age                              0\n",
              "concrete_compressive_strength    0\n",
              "dtype: int64"
            ]
          },
          "metadata": {
            "tags": []
          },
          "execution_count": 10
        }
      ]
    },
    {
      "cell_type": "code",
      "metadata": {
        "colab": {
          "base_uri": "https://localhost:8080/",
          "height": 297
        },
        "id": "PO1Tjv0T4VdB",
        "outputId": "3db12ba8-0db4-43ea-9348-d1a2477e791e"
      },
      "source": [
        "df.describe()"
      ],
      "execution_count": null,
      "outputs": [
        {
          "output_type": "execute_result",
          "data": {
            "text/html": [
              "<div>\n",
              "<style scoped>\n",
              "    .dataframe tbody tr th:only-of-type {\n",
              "        vertical-align: middle;\n",
              "    }\n",
              "\n",
              "    .dataframe tbody tr th {\n",
              "        vertical-align: top;\n",
              "    }\n",
              "\n",
              "    .dataframe thead th {\n",
              "        text-align: right;\n",
              "    }\n",
              "</style>\n",
              "<table border=\"1\" class=\"dataframe\">\n",
              "  <thead>\n",
              "    <tr style=\"text-align: right;\">\n",
              "      <th></th>\n",
              "      <th>cement</th>\n",
              "      <th>blast_furnace_slag</th>\n",
              "      <th>fly_ash</th>\n",
              "      <th>water</th>\n",
              "      <th>superplasticizer</th>\n",
              "      <th>coarse_aggregate</th>\n",
              "      <th>fine_aggregate</th>\n",
              "      <th>age</th>\n",
              "      <th>concrete_compressive_strength</th>\n",
              "    </tr>\n",
              "  </thead>\n",
              "  <tbody>\n",
              "    <tr>\n",
              "      <th>count</th>\n",
              "      <td>1030.000000</td>\n",
              "      <td>1030.000000</td>\n",
              "      <td>1030.000000</td>\n",
              "      <td>1030.000000</td>\n",
              "      <td>1030.000000</td>\n",
              "      <td>1030.000000</td>\n",
              "      <td>1030.000000</td>\n",
              "      <td>1030.000000</td>\n",
              "      <td>1030.000000</td>\n",
              "    </tr>\n",
              "    <tr>\n",
              "      <th>mean</th>\n",
              "      <td>281.167864</td>\n",
              "      <td>73.895825</td>\n",
              "      <td>54.188350</td>\n",
              "      <td>181.567282</td>\n",
              "      <td>6.204660</td>\n",
              "      <td>972.918932</td>\n",
              "      <td>773.580485</td>\n",
              "      <td>45.662136</td>\n",
              "      <td>35.817961</td>\n",
              "    </tr>\n",
              "    <tr>\n",
              "      <th>std</th>\n",
              "      <td>104.506364</td>\n",
              "      <td>86.279342</td>\n",
              "      <td>63.997004</td>\n",
              "      <td>21.354219</td>\n",
              "      <td>5.973841</td>\n",
              "      <td>77.753954</td>\n",
              "      <td>80.175980</td>\n",
              "      <td>63.169912</td>\n",
              "      <td>16.705742</td>\n",
              "    </tr>\n",
              "    <tr>\n",
              "      <th>min</th>\n",
              "      <td>102.000000</td>\n",
              "      <td>0.000000</td>\n",
              "      <td>0.000000</td>\n",
              "      <td>121.800000</td>\n",
              "      <td>0.000000</td>\n",
              "      <td>801.000000</td>\n",
              "      <td>594.000000</td>\n",
              "      <td>1.000000</td>\n",
              "      <td>2.330000</td>\n",
              "    </tr>\n",
              "    <tr>\n",
              "      <th>25%</th>\n",
              "      <td>192.375000</td>\n",
              "      <td>0.000000</td>\n",
              "      <td>0.000000</td>\n",
              "      <td>164.900000</td>\n",
              "      <td>0.000000</td>\n",
              "      <td>932.000000</td>\n",
              "      <td>730.950000</td>\n",
              "      <td>7.000000</td>\n",
              "      <td>23.710000</td>\n",
              "    </tr>\n",
              "    <tr>\n",
              "      <th>50%</th>\n",
              "      <td>272.900000</td>\n",
              "      <td>22.000000</td>\n",
              "      <td>0.000000</td>\n",
              "      <td>185.000000</td>\n",
              "      <td>6.400000</td>\n",
              "      <td>968.000000</td>\n",
              "      <td>779.500000</td>\n",
              "      <td>28.000000</td>\n",
              "      <td>34.445000</td>\n",
              "    </tr>\n",
              "    <tr>\n",
              "      <th>75%</th>\n",
              "      <td>350.000000</td>\n",
              "      <td>142.950000</td>\n",
              "      <td>118.300000</td>\n",
              "      <td>192.000000</td>\n",
              "      <td>10.200000</td>\n",
              "      <td>1029.400000</td>\n",
              "      <td>824.000000</td>\n",
              "      <td>56.000000</td>\n",
              "      <td>46.135000</td>\n",
              "    </tr>\n",
              "    <tr>\n",
              "      <th>max</th>\n",
              "      <td>540.000000</td>\n",
              "      <td>359.400000</td>\n",
              "      <td>200.100000</td>\n",
              "      <td>247.000000</td>\n",
              "      <td>32.200000</td>\n",
              "      <td>1145.000000</td>\n",
              "      <td>992.600000</td>\n",
              "      <td>365.000000</td>\n",
              "      <td>82.600000</td>\n",
              "    </tr>\n",
              "  </tbody>\n",
              "</table>\n",
              "</div>"
            ],
            "text/plain": [
              "            cement  ...  concrete_compressive_strength\n",
              "count  1030.000000  ...                    1030.000000\n",
              "mean    281.167864  ...                      35.817961\n",
              "std     104.506364  ...                      16.705742\n",
              "min     102.000000  ...                       2.330000\n",
              "25%     192.375000  ...                      23.710000\n",
              "50%     272.900000  ...                      34.445000\n",
              "75%     350.000000  ...                      46.135000\n",
              "max     540.000000  ...                      82.600000\n",
              "\n",
              "[8 rows x 9 columns]"
            ]
          },
          "metadata": {
            "tags": []
          },
          "execution_count": 11
        }
      ]
    },
    {
      "cell_type": "code",
      "metadata": {
        "colab": {
          "base_uri": "https://localhost:8080/"
        },
        "id": "FMdSt_BV4ZyY",
        "outputId": "2c4e2e2c-6429-43ff-8766-3e0b10ba0c8a"
      },
      "source": [
        "df.info()"
      ],
      "execution_count": null,
      "outputs": [
        {
          "output_type": "stream",
          "text": [
            "<class 'pandas.core.frame.DataFrame'>\n",
            "RangeIndex: 1030 entries, 0 to 1029\n",
            "Data columns (total 9 columns):\n",
            " #   Column                         Non-Null Count  Dtype  \n",
            "---  ------                         --------------  -----  \n",
            " 0   cement                         1030 non-null   float64\n",
            " 1   blast_furnace_slag             1030 non-null   float64\n",
            " 2   fly_ash                        1030 non-null   float64\n",
            " 3   water                          1030 non-null   float64\n",
            " 4   superplasticizer               1030 non-null   float64\n",
            " 5   coarse_aggregate               1030 non-null   float64\n",
            " 6   fine_aggregate                 1030 non-null   float64\n",
            " 7   age                            1030 non-null   int64  \n",
            " 8   concrete_compressive_strength  1030 non-null   float64\n",
            "dtypes: float64(8), int64(1)\n",
            "memory usage: 72.5 KB\n"
          ],
          "name": "stdout"
        }
      ]
    },
    {
      "cell_type": "code",
      "metadata": {
        "colab": {
          "base_uri": "https://localhost:8080/"
        },
        "id": "AFRaqPOm4l9_",
        "outputId": "f7ca27d1-fd0c-4ad0-833b-ced31ca332c2"
      },
      "source": [
        "df.keys()# to gets columns name"
      ],
      "execution_count": null,
      "outputs": [
        {
          "output_type": "execute_result",
          "data": {
            "text/plain": [
              "Index(['cement', 'blast_furnace_slag', 'fly_ash', 'water', 'superplasticizer',\n",
              "       'coarse_aggregate', 'fine_aggregate ', 'age',\n",
              "       'concrete_compressive_strength'],\n",
              "      dtype='object')"
            ]
          },
          "metadata": {
            "tags": []
          },
          "execution_count": 13
        }
      ]
    },
    {
      "cell_type": "code",
      "metadata": {
        "id": "Fe8jP9QY4vFQ"
      },
      "source": [
        "# split dataframe into input and output\n",
        "data=df.iloc[:,:8]\n",
        "\n",
        "targets=df.iloc[:,-1]"
      ],
      "execution_count": null,
      "outputs": []
    },
    {
      "cell_type": "code",
      "metadata": {
        "colab": {
          "base_uri": "https://localhost:8080/",
          "height": 1000
        },
        "id": "prfh-uxv40ZB",
        "outputId": "c2189dbd-346f-4133-86f4-7b3607de1ae2"
      },
      "source": [
        "%matplotlib inline\n",
        "import matplotlib.pyplot as plt\n",
        "plt.style.use('ggplot')\n",
        "pd.DataFrame.hist(data, figsize = [30,30], color=\"Green\")\n",
        "plt.show()"
      ],
      "execution_count": null,
      "outputs": [
        {
          "output_type": "display_data",
          "data": {
            "image/png": "[encoded data removed]",
            "text/plain": [
              "<Figure size 2160x2160 with 9 Axes>"
            ]
          },
          "metadata": {
            "tags": []
          }
        }
      ]
    },
    {
      "cell_type": "code",
      "metadata": {
        "colab": {
          "base_uri": "https://localhost:8080/",
          "height": 445
        },
        "id": "18OWh-DF46w_",
        "outputId": "dad338d4-f2ab-4c59-c5fb-cbe75ff509d0"
      },
      "source": [
        "plt.style.use('ggplot')\n",
        "targets.hist( figsize = [7,7], color=\"Blue\")\n",
        "plt.title(\"Actual Targets\")\n",
        "plt.show()"
      ],
      "execution_count": null,
      "outputs": [
        {
          "output_type": "display_data",
          "data": {
            "image/png": "[encoded data removed]",
            "text/plain": [
              "<Figure size 504x504 with 1 Axes>"
            ]
          },
          "metadata": {
            "tags": []
          }
        }
      ]
    },
    {
      "cell_type": "code",
      "metadata": {
        "id": "ivpXlVly4_ww"
      },
      "source": [
        "# standardized or normalized the data (input variables)\n",
        "mean = data.mean(axis=0)\n",
        "data-= mean\n",
        "std = data.std(axis=0)\n",
        "data/= std"
      ],
      "execution_count": null,
      "outputs": []
    },
    {
      "cell_type": "code",
      "metadata": {
        "id": "Jp5qaKbV5Eo4"
      },
      "source": [
        "# data spliting using machine learning spliting method\n",
        "from sklearn.model_selection import train_test_split\n",
        "X_train,X_test,y_train,y_test=train_test_split(data,targets,random_state=0)"
      ],
      "execution_count": null,
      "outputs": []
    },
    {
      "cell_type": "code",
      "metadata": {
        "colab": {
          "base_uri": "https://localhost:8080/"
        },
        "id": "N3yQ9zb25H1x",
        "outputId": "dcb529d4-9f2b-4c8a-844a-bd7e13a3352c"
      },
      "source": [
        "print(f\"Shape of training data :{X_train.shape},\\nShape of training targets:{y_train.shape}\")"
      ],
      "execution_count": null,
      "outputs": [
        {
          "output_type": "stream",
          "text": [
            "Shape of training data :(772, 8),\n",
            "Shape of training targets:(772,)\n"
          ],
          "name": "stdout"
        }
      ]
    },
    {
      "cell_type": "code",
      "metadata": {
        "colab": {
          "base_uri": "https://localhost:8080/"
        },
        "id": "JKL4HjCS5LfQ",
        "outputId": "855eca72-8566-488f-b8a5-edae3dcbca75"
      },
      "source": [
        "print(f\"Shape of testing data :{X_test.shape},\\nShape of testing targets:{y_test.shape}\")"
      ],
      "execution_count": null,
      "outputs": [
        {
          "output_type": "stream",
          "text": [
            "Shape of testing data :(258, 8),\n",
            "Shape of testing targets:(258,)\n"
          ],
          "name": "stdout"
        }
      ]
    },
    {
      "cell_type": "code",
      "metadata": {
        "id": "B8VDI9ov5PWI"
      },
      "source": [
        "X_train= np.asarray(X_train).astype('float32')\n",
        "X_test= np.asarray(X_test).astype('float32')"
      ],
      "execution_count": null,
      "outputs": []
    },
    {
      "cell_type": "code",
      "metadata": {
        "id": "cEr0u9fU5TDo"
      },
      "source": [
        "val_X = X_train[:230]\n",
        "partial_X_train=X_train[230:]\n",
        "val_y=y_train[:230]\n",
        "partial_y_train=y_train[230:]"
      ],
      "execution_count": null,
      "outputs": []
    },
    {
      "cell_type": "code",
      "metadata": {
        "id": "Jdl1j9Hn7OP5"
      },
      "source": [
        "from keras import models, layers , optimizers"
      ],
      "execution_count": null,
      "outputs": []
    },
    {
      "cell_type": "code",
      "metadata": {
        "id": "3bnNptBe7Q-p"
      },
      "source": [
        "network=models.Sequential()\n",
        "network.add(tf.keras.layers.Dense(10,activation=\"relu\",input_shape=(X_train.shape[1],)))\n",
        "network.add(tf.keras.layers.Dense(8,activation=\"relu\"))\n",
        "network.add(tf.keras.layers.Dense(1))"
      ],
      "execution_count": null,
      "outputs": []
    },
    {
      "cell_type": "code",
      "metadata": {
        "colab": {
          "base_uri": "https://localhost:8080/"
        },
        "id": "aATstpAU7T0y",
        "outputId": "8f147b91-c48e-4338-8b21-0fb884798fee"
      },
      "source": [
        "network.summary()"
      ],
      "execution_count": null,
      "outputs": [
        {
          "output_type": "stream",
          "text": [
            "Model: \"sequential\"\n",
            "_________________________________________________________________\n",
            "Layer (type)                 Output Shape              Param #   \n",
            "=================================================================\n",
            "dense (Dense)                (None, 10)                90        \n",
            "_________________________________________________________________\n",
            "dense_1 (Dense)              (None, 8)                 88        \n",
            "_________________________________________________________________\n",
            "dense_2 (Dense)              (None, 1)                 9         \n",
            "=================================================================\n",
            "Total params: 187\n",
            "Trainable params: 187\n",
            "Non-trainable params: 0\n",
            "_________________________________________________________________\n"
          ],
          "name": "stdout"
        }
      ]
    },
    {
      "cell_type": "code",
      "metadata": {
        "id": "GXUZ73Gn7XFx"
      },
      "source": [
        "network.compile(optimizer=optimizers.RMSprop(lr=0.001), loss=\"mse\",metrics=['mae'])"
      ],
      "execution_count": null,
      "outputs": []
    },
    {
      "cell_type": "code",
      "metadata": {
        "colab": {
          "base_uri": "https://localhost:8080/"
        },
        "id": "77Co1-3W7bXC",
        "outputId": "80b09ad3-49a6-4842-aced-800afaad7139"
      },
      "source": [
        "history=network.fit(partial_X_train,partial_y_train,epochs=10,validation_data=(val_X,val_y),batch_size=1,verbose=1)"
      ],
      "execution_count": null,
      "outputs": [
        {
          "output_type": "stream",
          "text": [
            "Epoch 1/10\n",
            "542/542 [==============================] - 1s 2ms/step - loss: 147.0561 - mae: 9.3300 - val_loss: 133.8916 - val_mae: 9.2281\n",
            "Epoch 2/10\n",
            "542/542 [==============================] - 1s 1ms/step - loss: 141.6747 - mae: 9.2476 - val_loss: 132.5824 - val_mae: 9.1831\n",
            "Epoch 3/10\n",
            "542/542 [==============================] - 1s 1ms/step - loss: 142.8867 - mae: 9.2103 - val_loss: 130.6341 - val_mae: 9.0880\n",
            "Epoch 4/10\n",
            "542/542 [==============================] - 1s 1ms/step - loss: 137.4466 - mae: 9.1498 - val_loss: 129.0211 - val_mae: 9.1012\n",
            "Epoch 5/10\n",
            "542/542 [==============================] - 1s 1ms/step - loss: 139.6582 - mae: 9.0933 - val_loss: 127.9618 - val_mae: 9.0420\n",
            "Epoch 6/10\n",
            "542/542 [==============================] - 1s 1ms/step - loss: 134.7249 - mae: 9.0207 - val_loss: 124.4718 - val_mae: 8.9530\n",
            "Epoch 7/10\n",
            "542/542 [==============================] - 1s 1ms/step - loss: 134.1787 - mae: 8.9709 - val_loss: 124.6728 - val_mae: 8.9381\n",
            "Epoch 8/10\n",
            "542/542 [==============================] - 1s 1ms/step - loss: 130.8258 - mae: 8.8758 - val_loss: 123.8062 - val_mae: 8.8438\n",
            "Epoch 9/10\n",
            "542/542 [==============================] - 1s 2ms/step - loss: 133.2445 - mae: 8.8063 - val_loss: 122.3374 - val_mae: 8.8720\n",
            "Epoch 10/10\n",
            "542/542 [==============================] - 1s 2ms/step - loss: 129.8991 - mae: 8.7634 - val_loss: 119.1930 - val_mae: 8.7754\n"
          ],
          "name": "stdout"
        }
      ]
    },
    {
      "cell_type": "code",
      "metadata": {
        "colab": {
          "base_uri": "https://localhost:8080/",
          "height": 299
        },
        "id": "4xmKlEXZ7_jz",
        "outputId": "c435c0ec-2486-483d-f796-42e7121a351d"
      },
      "source": [
        "loss = history.history['loss']\n",
        "val_loss = history.history['val_loss']\n",
        "epochs = range(1, len(loss) + 1)\n",
        "plt.plot(epochs, loss, 'bo', label='Training loss')\n",
        "plt.plot(epochs, val_loss, 'b', label='Validation loss')\n",
        "plt.title('Training and validation loss')\n",
        "plt.xlabel('Epochs')\n",
        "plt.ylabel('Loss')\n",
        "plt.legend()\n",
        "plt.show()"
      ],
      "execution_count": null,
      "outputs": [
        {
          "output_type": "display_data",
          "data": {
            "image/png": "[encoded data removed]",
            "text/plain": [
              "<Figure size 432x288 with 1 Axes>"
            ]
          },
          "metadata": {
            "tags": []
          }
        }
      ]
    },
    {
      "cell_type": "code",
      "metadata": {
        "colab": {
          "base_uri": "https://localhost:8080/"
        },
        "id": "nmuOBaNN8YHL",
        "outputId": "f4aada7a-0ac6-4ff4-f132-dd5d6f7d17f8"
      },
      "source": [
        "all_mae_histories=[]\n",
        "mae_history = history.history['val_mae']\n",
        "all_mae_histories.append(mae_history)\n",
        "print(all_mae_histories)"
      ],
      "execution_count": null,
      "outputs": [
        {
          "output_type": "stream",
          "text": [
            "[[9.22811508178711, 9.183130264282227, 9.088048934936523, 9.10116958618164, 9.042040824890137, 8.953041076660156, 8.938065528869629, 8.843764305114746, 8.871981620788574, 8.7754487991333]]\n"
          ],
          "name": "stdout"
        }
      ]
    },
    {
      "cell_type": "code",
      "metadata": {
        "colab": {
          "base_uri": "https://localhost:8080/"
        },
        "id": "vzeofOEv8tNM",
        "outputId": "18b67b7c-3d71-4d87-bb4f-306bc3e8e8d0"
      },
      "source": [
        "average_mae_history = [np.mean([x[i] for x in all_mae_histories]) for i in range(2)]\n",
        "print(average_mae_history)"
      ],
      "execution_count": null,
      "outputs": [
        {
          "output_type": "stream",
          "text": [
            "[9.22811508178711, 9.183130264282227]\n"
          ],
          "name": "stdout"
        }
      ]
    },
    {
      "cell_type": "code",
      "metadata": {
        "colab": {
          "base_uri": "https://localhost:8080/",
          "height": 299
        },
        "id": "M5GZO17d806b",
        "outputId": "12caae0e-bde7-4aef-af79-44faf634e371"
      },
      "source": [
        "plt.plot(range(1, len(average_mae_history) + 1), average_mae_history)\n",
        "plt.title('Validation MAE by Epochs')\n",
        "plt.xlabel('Epochs')\n",
        "plt.ylabel('Validation MAE')\n",
        "plt.grid()\n",
        "plt.show()"
      ],
      "execution_count": null,
      "outputs": [
        {
          "output_type": "display_data",
          "data": {
            "image/png": "[encoded data removed]",
            "text/plain": [
              "<Figure size 432x288 with 1 Axes>"
            ]
          },
          "metadata": {
            "tags": []
          }
        }
      ]
    },
    {
      "cell_type": "code",
      "metadata": {
        "colab": {
          "base_uri": "https://localhost:8080/"
        },
        "id": "A_swCW-w85s8",
        "outputId": "8a6c6ed6-2332-439c-b8e5-668aba29fea1"
      },
      "source": [
        "test_mse_score, test_mae_score = network.evaluate(X_test, y_test)"
      ],
      "execution_count": null,
      "outputs": [
        {
          "output_type": "stream",
          "text": [
            "9/9 [==============================] - 0s 2ms/step - loss: 110.8628 - mae: 8.3931\n"
          ],
          "name": "stdout"
        }
      ]
    },
    {
      "cell_type": "code",
      "metadata": {
        "colab": {
          "base_uri": "https://localhost:8080/"
        },
        "id": "fLTNGne2880a",
        "outputId": "47b2f365-01e2-4793-df46-b1b3f05b6930"
      },
      "source": [
        " test_mae_score"
      ],
      "execution_count": null,
      "outputs": [
        {
          "output_type": "execute_result",
          "data": {
            "text/plain": [
              "9.017193794250488"
            ]
          },
          "metadata": {
            "tags": []
          },
          "execution_count": 36
        }
      ]
    },
    {
      "cell_type": "code",
      "metadata": {
        "colab": {
          "base_uri": "https://localhost:8080/"
        },
        "id": "dUNt3sJX8_iR",
        "outputId": "ad6de930-fabb-4d39-983e-c26c5df1d918"
      },
      "source": [
        "y_pred = network.predict(X_test)\n",
        "y_pred"
      ],
      "execution_count": null,
      "outputs": [
        {
          "output_type": "execute_result",
          "data": {
            "text/plain": [
              "array([[41.403885 ],\n",
              "       [15.057683 ],\n",
              "       [61.415867 ],\n",
              "       [47.419666 ],\n",
              "       [20.609257 ],\n",
              "       [52.049343 ],\n",
              "       [43.900524 ],\n",
              "       [27.384548 ],\n",
              "       [53.321682 ],\n",
              "       [37.724503 ],\n",
              "       [17.532589 ],\n",
              "       [42.48903  ],\n",
              "       [24.964596 ],\n",
              "       [28.776947 ],\n",
              "       [45.1639   ],\n",
              "       [55.615738 ],\n",
              "       [33.848297 ],\n",
              "       [25.466053 ],\n",
              "       [51.537945 ],\n",
              "       [30.873657 ],\n",
              "       [51.636158 ],\n",
              "       [33.139034 ],\n",
              "       [29.284733 ],\n",
              "       [51.1859   ],\n",
              "       [22.183262 ],\n",
              "       [21.975117 ],\n",
              "       [74.1909   ],\n",
              "       [26.292625 ],\n",
              "       [55.615738 ],\n",
              "       [49.476463 ],\n",
              "       [18.679893 ],\n",
              "       [33.24259  ],\n",
              "       [14.568461 ],\n",
              "       [22.243172 ],\n",
              "       [24.325409 ],\n",
              "       [10.830653 ],\n",
              "       [51.344532 ],\n",
              "       [25.572811 ],\n",
              "       [24.74131  ],\n",
              "       [24.880375 ],\n",
              "       [45.449715 ],\n",
              "       [26.880077 ],\n",
              "       [23.708618 ],\n",
              "       [31.393707 ],\n",
              "       [57.220104 ],\n",
              "       [49.3122   ],\n",
              "       [28.627747 ],\n",
              "       [45.662853 ],\n",
              "       [31.519207 ],\n",
              "       [67.640686 ],\n",
              "       [31.162125 ],\n",
              "       [16.834549 ],\n",
              "       [27.914738 ],\n",
              "       [31.713783 ],\n",
              "       [43.592197 ],\n",
              "       [45.331787 ],\n",
              "       [34.059555 ],\n",
              "       [49.782322 ],\n",
              "       [59.063225 ],\n",
              "       [33.424953 ],\n",
              "       [29.78994  ],\n",
              "       [17.308483 ],\n",
              "       [47.57827  ],\n",
              "       [53.30014  ],\n",
              "       [12.505061 ],\n",
              "       [40.11599  ],\n",
              "       [27.601131 ],\n",
              "       [32.05524  ],\n",
              "       [19.845943 ],\n",
              "       [20.220974 ],\n",
              "       [26.698193 ],\n",
              "       [28.070217 ],\n",
              "       [50.04813  ],\n",
              "       [15.6303625],\n",
              "       [27.896564 ],\n",
              "       [47.243427 ],\n",
              "       [22.943111 ],\n",
              "       [13.334778 ],\n",
              "       [20.976376 ],\n",
              "       [24.55949  ],\n",
              "       [20.416218 ],\n",
              "       [46.54809  ],\n",
              "       [29.59507  ],\n",
              "       [27.407135 ],\n",
              "       [35.590397 ],\n",
              "       [33.201916 ],\n",
              "       [44.89403  ],\n",
              "       [46.919422 ],\n",
              "       [36.52672  ],\n",
              "       [32.77879  ],\n",
              "       [50.491894 ],\n",
              "       [16.655903 ],\n",
              "       [25.685791 ],\n",
              "       [36.148354 ],\n",
              "       [26.686607 ],\n",
              "       [62.021286 ],\n",
              "       [27.191517 ],\n",
              "       [28.401798 ],\n",
              "       [48.85153  ],\n",
              "       [23.01603  ],\n",
              "       [22.329967 ],\n",
              "       [36.42408  ],\n",
              "       [22.788166 ],\n",
              "       [30.798828 ],\n",
              "       [35.289646 ],\n",
              "       [29.314651 ],\n",
              "       [37.85818  ],\n",
              "       [31.457096 ],\n",
              "       [25.928764 ],\n",
              "       [35.827335 ],\n",
              "       [16.977318 ],\n",
              "       [47.884823 ],\n",
              "       [19.795265 ],\n",
              "       [27.188335 ],\n",
              "       [36.098396 ],\n",
              "       [65.45972  ],\n",
              "       [30.050282 ],\n",
              "       [40.462727 ],\n",
              "       [39.91884  ],\n",
              "       [25.182716 ],\n",
              "       [43.23956  ],\n",
              "       [19.765137 ],\n",
              "       [61.814526 ],\n",
              "       [21.016567 ],\n",
              "       [18.293789 ],\n",
              "       [13.126129 ],\n",
              "       [16.333315 ],\n",
              "       [17.94384  ],\n",
              "       [36.735554 ],\n",
              "       [29.428288 ],\n",
              "       [28.290237 ],\n",
              "       [51.92609  ],\n",
              "       [28.530647 ],\n",
              "       [27.30877  ],\n",
              "       [12.555146 ],\n",
              "       [53.282024 ],\n",
              "       [71.01527  ],\n",
              "       [29.066345 ],\n",
              "       [16.312805 ],\n",
              "       [17.601414 ],\n",
              "       [36.757698 ],\n",
              "       [51.721657 ],\n",
              "       [27.54115  ],\n",
              "       [28.296822 ],\n",
              "       [17.050823 ],\n",
              "       [35.787975 ],\n",
              "       [43.381863 ],\n",
              "       [21.515018 ],\n",
              "       [23.437023 ],\n",
              "       [17.321152 ],\n",
              "       [21.14965  ],\n",
              "       [29.84237  ],\n",
              "       [20.689888 ],\n",
              "       [21.374287 ],\n",
              "       [26.293674 ],\n",
              "       [25.440598 ],\n",
              "       [40.97116  ],\n",
              "       [29.40232  ],\n",
              "       [25.513832 ],\n",
              "       [17.800987 ],\n",
              "       [40.4881   ],\n",
              "       [36.42513  ],\n",
              "       [27.475872 ],\n",
              "       [24.027264 ],\n",
              "       [34.623775 ],\n",
              "       [16.5546   ],\n",
              "       [70.17926  ],\n",
              "       [50.86356  ],\n",
              "       [67.84513  ],\n",
              "       [10.839228 ],\n",
              "       [29.727184 ],\n",
              "       [30.250813 ],\n",
              "       [19.558231 ],\n",
              "       [68.597984 ],\n",
              "       [23.1226   ],\n",
              "       [18.487118 ],\n",
              "       [21.920475 ],\n",
              "       [46.08474  ],\n",
              "       [20.689308 ],\n",
              "       [41.229115 ],\n",
              "       [28.141407 ],\n",
              "       [30.403606 ],\n",
              "       [19.25063  ],\n",
              "       [41.385296 ],\n",
              "       [26.040543 ],\n",
              "       [29.763824 ],\n",
              "       [40.22304  ],\n",
              "       [36.26076  ],\n",
              "       [27.104725 ],\n",
              "       [47.578274 ],\n",
              "       [18.390099 ],\n",
              "       [79.342384 ],\n",
              "       [39.72659  ],\n",
              "       [24.871033 ],\n",
              "       [16.596767 ],\n",
              "       [25.575417 ],\n",
              "       [28.006317 ],\n",
              "       [27.447044 ],\n",
              "       [27.943382 ],\n",
              "       [54.685112 ],\n",
              "       [15.927604 ],\n",
              "       [17.80587  ],\n",
              "       [45.060085 ],\n",
              "       [28.239353 ],\n",
              "       [27.742569 ],\n",
              "       [17.644566 ],\n",
              "       [36.371365 ],\n",
              "       [28.319347 ],\n",
              "       [29.916855 ],\n",
              "       [21.535896 ],\n",
              "       [48.162148 ],\n",
              "       [19.77623  ],\n",
              "       [20.063145 ],\n",
              "       [23.73928  ],\n",
              "       [26.43266  ],\n",
              "       [25.50243  ],\n",
              "       [15.901807 ],\n",
              "       [41.25703  ],\n",
              "       [17.483154 ],\n",
              "       [37.09959  ],\n",
              "       [54.856937 ],\n",
              "       [28.60033  ],\n",
              "       [36.612034 ],\n",
              "       [36.79874  ],\n",
              "       [45.225334 ],\n",
              "       [34.641716 ],\n",
              "       [21.887623 ],\n",
              "       [31.39922  ],\n",
              "       [30.238354 ],\n",
              "       [46.630974 ],\n",
              "       [34.94944  ],\n",
              "       [36.44871  ],\n",
              "       [60.196316 ],\n",
              "       [20.346046 ],\n",
              "       [35.387745 ],\n",
              "       [27.399624 ],\n",
              "       [28.492138 ],\n",
              "       [37.933056 ],\n",
              "       [24.461205 ],\n",
              "       [57.34158  ],\n",
              "       [60.65169  ],\n",
              "       [27.323685 ],\n",
              "       [44.525288 ],\n",
              "       [30.407516 ],\n",
              "       [25.1054   ],\n",
              "       [21.299763 ],\n",
              "       [45.14069  ],\n",
              "       [22.872444 ],\n",
              "       [31.536518 ],\n",
              "       [13.380247 ],\n",
              "       [11.235006 ],\n",
              "       [34.512684 ],\n",
              "       [36.164276 ],\n",
              "       [32.500595 ],\n",
              "       [35.86689  ],\n",
              "       [19.446636 ],\n",
              "       [25.620235 ],\n",
              "       [15.541652 ]], dtype=float32)"
            ]
          },
          "metadata": {
            "tags": []
          },
          "execution_count": 46
        }
      ]
    },
    {
      "cell_type": "code",
      "metadata": {
        "colab": {
          "base_uri": "https://localhost:8080/"
        },
        "id": "qrdH_yLb9DOS",
        "outputId": "bfbddf7f-d64d-4492-c009-73f22af64af4"
      },
      "source": [
        "y_test"
      ],
      "execution_count": null,
      "outputs": [
        {
          "output_type": "execute_result",
          "data": {
            "text/plain": [
              "747    26.06\n",
              "718    10.35\n",
              "175    79.30\n",
              "828    74.99\n",
              "713     9.69\n",
              "       ...  \n",
              "453    31.72\n",
              "906    39.42\n",
              "757    18.13\n",
              "875    18.28\n",
              "62      9.87\n",
              "Name: concrete_compressive_strength, Length: 258, dtype: float64"
            ]
          },
          "metadata": {
            "tags": []
          },
          "execution_count": 47
        }
      ]
    },
    {
      "cell_type": "code",
      "metadata": {
        "colab": {
          "base_uri": "https://localhost:8080/",
          "height": 337
        },
        "id": "9-stlKMR9IxJ",
        "outputId": "6e6756da-5bee-44c1-d979-1793e41af8cd"
      },
      "source": [
        "plt.figure(figsize=(20,5))\n",
        "plt.subplot(1, 2, 1 )\n",
        "plt.hist(targets)\n",
        "plt.xlabel('original target value')\n",
        "plt.ylabel('count')\n",
        "plt.subplot(1, 2, 2)\n",
        "plt.hist(y_pred)\n",
        "plt.xlabel('aggregated target value')\n",
        "plt.show()"
      ],
      "execution_count": null,
      "outputs": [
        {
          "output_type": "display_data",
          "data": {
            "image/png": "[encoded data removed]",
            "text/plain": [
              "<Figure size 1440x360 with 2 Axes>"
            ]
          },
          "metadata": {
            "tags": []
          }
        }
      ]
    }
  ]
}
{
  "nbformat": 4,
  "nbformat_minor": 0,
  "metadata": {
    "colab": {
      "name": "Car-Price-Assign1(\tPIAIC148907).ipynb",
      "provenance": [],
      "collapsed_sections": []
    },
    "kernelspec": {
      "name": "python3",
      "display_name": "Python 3"
    },
    "language_info": {
      "name": "python"
    }
  },
  "cells": [
    {
      "cell_type": "markdown",
      "metadata": {
        "id": "hMbhWSRwVKrL"
      },
      "source": [
        "\n",
        "Problem Statement::\n",
        "A Chinese automobile company Geely Auto aspires to enter the US market by setting up their manufacturing unit there and producing cars locally to give competition to their US and European counterparts.\n",
        "\n",
        "They have contracted an automobile consulting company to understand the factors on which the pricing of cars depends. Specifically, they want to understand the factors affecting the pricing of cars in the American market, since those may be very different from the Chinese market. The company wants to know:\n",
        "\n",
        "Which variables are significant in predicting the price of a car How well those variables describe the price of a car Based on various market surveys, the consulting firm has gathered a large data set of different types of cars across the America market.\n",
        "\n",
        "task::¶\n",
        "We are required to model the price of cars with the available independent variables. It will be used by the management to understand how exactly the prices vary with the independent variables. They can accordingly manipulate the design of the cars, the business strategy etc. to meet certain price levels. Further, the model will be a good way for management to understand the pricing dynamics of a new market.\n",
        "\n",
        "WORKFLOW ::\n",
        "1.Load Data\n",
        "\n",
        "2.Check Missing Values ( If Exist ; Fill each record with mean of its feature )\n",
        "\n",
        "3.Split into 50% Training(Samples,Labels) , 30% Test(Samples,Labels) and 20% Validation Data(Samples,Labels).\n",
        "\n",
        "4.Model : input Layer (No. of features ), 3 hidden layers including 10,8,6 unit & Output Layer with activation function relu/tanh (check by experiment).\n",
        "\n",
        "5.Compilation Step (Note : Its a Regression problem , select loss , metrics according to it) 6.Train the Model with Epochs (100) and validate it\n",
        "\n",
        "7.If the model gets overfit tune your model by changing the units , No. of layers , activation function , epochs , add dropout layer or add Regularizer according to the need .\n",
        "\n",
        "8.Evaluation Step\n",
        "\n",
        "9.Prediction\n",
        "\n",
        "Importing Libraries"
      ]
    },
    {
      "cell_type": "code",
      "metadata": {
        "id": "efGr075yVobY"
      },
      "source": [
        "import numpy as np\n",
        "import pandas as pd\n",
        "import matplotlib.pyplot as plt\n",
        "import seaborn as sns"
      ],
      "execution_count": 3,
      "outputs": []
    },
    {
      "cell_type": "markdown",
      "metadata": {
        "id": "armTo1j4Gyx1"
      },
      "source": [
        "# New Section"
      ]
    },
    {
      "cell_type": "code",
      "metadata": {
        "colab": {
          "base_uri": "https://localhost:8080/"
        },
        "id": "gJ9UGdrYHxBO",
        "outputId": "e6b5ab72-c5bd-4778-9322-7bd244801cd6"
      },
      "source": [
        "cd /content/drive/MyDrive/DEEP-LEARN1-material"
      ],
      "execution_count": 4,
      "outputs": [
        {
          "output_type": "stream",
          "text": [
            "[Errno 2] No such file or directory: '/content/drive/MyDrive/DEEP-LEARN1-material'\n",
            "/content\n"
          ],
          "name": "stdout"
        }
      ]
    },
    {
      "cell_type": "code",
      "metadata": {
        "colab": {
          "base_uri": "https://localhost:8080/"
        },
        "id": "8MHueEylH6uN",
        "outputId": "cb5b051f-5803-4b7a-859b-c5b0800d9bf9"
      },
      "source": [
        "ls"
      ],
      "execution_count": null,
      "outputs": [
        {
          "output_type": "stream",
          "text": [
            "'CarPrice_Assignment (1).csv'   Dataset_FVC.csv\n",
            " CarPrice_Assignment.csv        My_approaches.xlsx\n"
          ],
          "name": "stdout"
        }
      ]
    },
    {
      "cell_type": "code",
      "metadata": {
        "colab": {
          "base_uri": "https://localhost:8080/"
        },
        "id": "ivmLc2sgMmY2",
        "outputId": "b6abe412-1233-4c8f-864f-5f76689ef931"
      },
      "source": [
        "#mounting google drive \n",
        "from google.colab import drive\n",
        "drive.mount('/content/drive')"
      ],
      "execution_count": 5,
      "outputs": [
        {
          "output_type": "stream",
          "text": [
            "Drive already mounted at /content/drive; to attempt to forcibly remount, call drive.mount(\"/content/drive\", force_remount=True).\n"
          ],
          "name": "stdout"
        }
      ]
    },
    {
      "cell_type": "code",
      "metadata": {
        "id": "JTrYjra4s3oL",
        "colab": {
          "base_uri": "https://localhost:8080/",
          "height": 275
        },
        "outputId": "cb025226-b276-40db-90d2-0aae1d1cb997"
      },
      "source": [
        "df_car=pd.read_csv(\"/content/drive/MyDrive/CarPrice_Assignment.csv\")\n",
        "df_car.head()"
      ],
      "execution_count": 7,
      "outputs": [
        {
          "output_type": "execute_result",
          "data": {
            "text/html": [
              "<div>\n",
              "<style scoped>\n",
              "    .dataframe tbody tr th:only-of-type {\n",
              "        vertical-align: middle;\n",
              "    }\n",
              "\n",
              "    .dataframe tbody tr th {\n",
              "        vertical-align: top;\n",
              "    }\n",
              "\n",
              "    .dataframe thead th {\n",
              "        text-align: right;\n",
              "    }\n",
              "</style>\n",
              "<table border=\"1\" class=\"dataframe\">\n",
              "  <thead>\n",
              "    <tr style=\"text-align: right;\">\n",
              "      <th></th>\n",
              "      <th>car_ID</th>\n",
              "      <th>symboling</th>\n",
              "      <th>CarName</th>\n",
              "      <th>fueltype</th>\n",
              "      <th>aspiration</th>\n",
              "      <th>doornumber</th>\n",
              "      <th>carbody</th>\n",
              "      <th>drivewheel</th>\n",
              "      <th>enginelocation</th>\n",
              "      <th>wheelbase</th>\n",
              "      <th>carlength</th>\n",
              "      <th>carwidth</th>\n",
              "      <th>carheight</th>\n",
              "      <th>curbweight</th>\n",
              "      <th>enginetype</th>\n",
              "      <th>cylindernumber</th>\n",
              "      <th>enginesize</th>\n",
              "      <th>fuelsystem</th>\n",
              "      <th>boreratio</th>\n",
              "      <th>stroke</th>\n",
              "      <th>compressionratio</th>\n",
              "      <th>horsepower</th>\n",
              "      <th>peakrpm</th>\n",
              "      <th>citympg</th>\n",
              "      <th>highwaympg</th>\n",
              "      <th>price</th>\n",
              "    </tr>\n",
              "  </thead>\n",
              "  <tbody>\n",
              "    <tr>\n",
              "      <th>0</th>\n",
              "      <td>1</td>\n",
              "      <td>3</td>\n",
              "      <td>alfa-romero giulia</td>\n",
              "      <td>gas</td>\n",
              "      <td>std</td>\n",
              "      <td>two</td>\n",
              "      <td>convertible</td>\n",
              "      <td>rwd</td>\n",
              "      <td>front</td>\n",
              "      <td>88.6</td>\n",
              "      <td>168.8</td>\n",
              "      <td>64.1</td>\n",
              "      <td>48.8</td>\n",
              "      <td>2548</td>\n",
              "      <td>dohc</td>\n",
              "      <td>four</td>\n",
              "      <td>130</td>\n",
              "      <td>mpfi</td>\n",
              "      <td>3.47</td>\n",
              "      <td>2.68</td>\n",
              "      <td>9.0</td>\n",
              "      <td>111</td>\n",
              "      <td>5000</td>\n",
              "      <td>21</td>\n",
              "      <td>27</td>\n",
              "      <td>13495.0</td>\n",
              "    </tr>\n",
              "    <tr>\n",
              "      <th>1</th>\n",
              "      <td>2</td>\n",
              "      <td>3</td>\n",
              "      <td>alfa-romero stelvio</td>\n",
              "      <td>gas</td>\n",
              "      <td>std</td>\n",
              "      <td>two</td>\n",
              "      <td>convertible</td>\n",
              "      <td>rwd</td>\n",
              "      <td>front</td>\n",
              "      <td>88.6</td>\n",
              "      <td>168.8</td>\n",
              "      <td>64.1</td>\n",
              "      <td>48.8</td>\n",
              "      <td>2548</td>\n",
              "      <td>dohc</td>\n",
              "      <td>four</td>\n",
              "      <td>130</td>\n",
              "      <td>mpfi</td>\n",
              "      <td>3.47</td>\n",
              "      <td>2.68</td>\n",
              "      <td>9.0</td>\n",
              "      <td>111</td>\n",
              "      <td>5000</td>\n",
              "      <td>21</td>\n",
              "      <td>27</td>\n",
              "      <td>16500.0</td>\n",
              "    </tr>\n",
              "    <tr>\n",
              "      <th>2</th>\n",
              "      <td>3</td>\n",
              "      <td>1</td>\n",
              "      <td>alfa-romero Quadrifoglio</td>\n",
              "      <td>gas</td>\n",
              "      <td>std</td>\n",
              "      <td>two</td>\n",
              "      <td>hatchback</td>\n",
              "      <td>rwd</td>\n",
              "      <td>front</td>\n",
              "      <td>94.5</td>\n",
              "      <td>171.2</td>\n",
              "      <td>65.5</td>\n",
              "      <td>52.4</td>\n",
              "      <td>2823</td>\n",
              "      <td>ohcv</td>\n",
              "      <td>six</td>\n",
              "      <td>152</td>\n",
              "      <td>mpfi</td>\n",
              "      <td>2.68</td>\n",
              "      <td>3.47</td>\n",
              "      <td>9.0</td>\n",
              "      <td>154</td>\n",
              "      <td>5000</td>\n",
              "      <td>19</td>\n",
              "      <td>26</td>\n",
              "      <td>16500.0</td>\n",
              "    </tr>\n",
              "    <tr>\n",
              "      <th>3</th>\n",
              "      <td>4</td>\n",
              "      <td>2</td>\n",
              "      <td>audi 100 ls</td>\n",
              "      <td>gas</td>\n",
              "      <td>std</td>\n",
              "      <td>four</td>\n",
              "      <td>sedan</td>\n",
              "      <td>fwd</td>\n",
              "      <td>front</td>\n",
              "      <td>99.8</td>\n",
              "      <td>176.6</td>\n",
              "      <td>66.2</td>\n",
              "      <td>54.3</td>\n",
              "      <td>2337</td>\n",
              "      <td>ohc</td>\n",
              "      <td>four</td>\n",
              "      <td>109</td>\n",
              "      <td>mpfi</td>\n",
              "      <td>3.19</td>\n",
              "      <td>3.40</td>\n",
              "      <td>10.0</td>\n",
              "      <td>102</td>\n",
              "      <td>5500</td>\n",
              "      <td>24</td>\n",
              "      <td>30</td>\n",
              "      <td>13950.0</td>\n",
              "    </tr>\n",
              "    <tr>\n",
              "      <th>4</th>\n",
              "      <td>5</td>\n",
              "      <td>2</td>\n",
              "      <td>audi 100ls</td>\n",
              "      <td>gas</td>\n",
              "      <td>std</td>\n",
              "      <td>four</td>\n",
              "      <td>sedan</td>\n",
              "      <td>4wd</td>\n",
              "      <td>front</td>\n",
              "      <td>99.4</td>\n",
              "      <td>176.6</td>\n",
              "      <td>66.4</td>\n",
              "      <td>54.3</td>\n",
              "      <td>2824</td>\n",
              "      <td>ohc</td>\n",
              "      <td>five</td>\n",
              "      <td>136</td>\n",
              "      <td>mpfi</td>\n",
              "      <td>3.19</td>\n",
              "      <td>3.40</td>\n",
              "      <td>8.0</td>\n",
              "      <td>115</td>\n",
              "      <td>5500</td>\n",
              "      <td>18</td>\n",
              "      <td>22</td>\n",
              "      <td>17450.0</td>\n",
              "    </tr>\n",
              "  </tbody>\n",
              "</table>\n",
              "</div>"
            ],
            "text/plain": [
              "   car_ID  symboling                   CarName  ... citympg highwaympg    price\n",
              "0       1          3        alfa-romero giulia  ...      21         27  13495.0\n",
              "1       2          3       alfa-romero stelvio  ...      21         27  16500.0\n",
              "2       3          1  alfa-romero Quadrifoglio  ...      19         26  16500.0\n",
              "3       4          2               audi 100 ls  ...      24         30  13950.0\n",
              "4       5          2                audi 100ls  ...      18         22  17450.0\n",
              "\n",
              "[5 rows x 26 columns]"
            ]
          },
          "metadata": {
            "tags": []
          },
          "execution_count": 7
        }
      ]
    },
    {
      "cell_type": "code",
      "metadata": {
        "id": "T38z_8vEYQmE"
      },
      "source": [
        "X=df_car.iloc[:,:-1]\n",
        "y=df_car.iloc[:,-1]"
      ],
      "execution_count": 9,
      "outputs": []
    },
    {
      "cell_type": "code",
      "metadata": {
        "id": "Vttc7LhbYc5U"
      },
      "source": [
        "X.drop(X.select_dtypes(include='object'),axis=1,inplace=True)"
      ],
      "execution_count": 11,
      "outputs": []
    },
    {
      "cell_type": "code",
      "metadata": {
        "colab": {
          "base_uri": "https://localhost:8080/"
        },
        "id": "0THIrBYWYhyE",
        "outputId": "86eddb20-7de1-4bb0-bc07-31159c35d6e9"
      },
      "source": [
        "print(f\"Shape of input ==> X :{X.shape}\\nShape of output ==> Y :{y.shape} \")"
      ],
      "execution_count": 12,
      "outputs": [
        {
          "output_type": "stream",
          "text": [
            "Shape of input ==> X :(205, 15)\n",
            "Shape of output ==> Y :(205,) \n"
          ],
          "name": "stdout"
        }
      ]
    },
    {
      "cell_type": "code",
      "metadata": {
        "id": "Eok7IE3cYo9L"
      },
      "source": [
        "X_train=X.sample(frac=0.7, replace=True, random_state=1,axis=0)\n",
        "y_train=y.sample(frac=0.7, replace=True, random_state=1,axis=0)"
      ],
      "execution_count": 13,
      "outputs": []
    },
    {
      "cell_type": "code",
      "metadata": {
        "id": "0G93KkpgYxla"
      },
      "source": [
        "X_test=X.sample(frac=0.3, replace=True, random_state=1,axis=0)\n",
        "y_test=y.sample(frac=0.3, replace=True, random_state=1,axis=0)"
      ],
      "execution_count": 15,
      "outputs": []
    },
    {
      "cell_type": "code",
      "metadata": {
        "colab": {
          "base_uri": "https://localhost:8080/"
        },
        "id": "5s_OReF2Z0eL",
        "outputId": "cd26c888-c75c-4776-fa29-58a95de8c76e"
      },
      "source": [
        "print(f\"shape of training data is :{X_train.shape}\\nshape of training label is :{y_train.shape}\\nshape of testing data is :{X_test.shape}\\nshape of testing label is :{y_test.shape}\")"
      ],
      "execution_count": 16,
      "outputs": [
        {
          "output_type": "stream",
          "text": [
            "shape of training data is :(144, 15)\n",
            "shape of training label is :(144,)\n",
            "shape of testing data is :(62, 15)\n",
            "shape of testing label is :(62,)\n"
          ],
          "name": "stdout"
        }
      ]
    },
    {
      "cell_type": "code",
      "metadata": {
        "id": "CuLI5h3_Z5hL"
      },
      "source": [
        "X_train=np.asarray(X_train).astype(\"float32\")\n",
        "X_test=np.asarray(X_test).astype(\"float32\")"
      ],
      "execution_count": 17,
      "outputs": []
    },
    {
      "cell_type": "code",
      "metadata": {
        "id": "hi2YKFLzZ9YE"
      },
      "source": [
        "mean = X_train.mean(axis=0)\n",
        "X_train-= mean\n",
        "std = X_train.std(axis=0)\n",
        "X_train/= std\n",
        "X_test-= mean\n",
        "X_test/= std"
      ],
      "execution_count": 18,
      "outputs": []
    },
    {
      "cell_type": "code",
      "metadata": {
        "id": "uiaBgAahaCnj"
      },
      "source": [
        "y_mean = y_train.mean(axis=0)\n",
        "y_train-= y_mean\n",
        "y_std = y_train.std(axis=0)\n",
        "y_train/= y_std\n",
        "y_test-= y_mean\n",
        "y_test/= y_std"
      ],
      "execution_count": 19,
      "outputs": []
    },
    {
      "cell_type": "code",
      "metadata": {
        "id": "CXiOuc_baGYT"
      },
      "source": [
        "val_x=X_train[:50]\n",
        "partial_x_train=X_train[50:]\n",
        "val_y=y_train[:50]\n",
        "partial_y_train=y_train[50:]"
      ],
      "execution_count": 20,
      "outputs": []
    },
    {
      "cell_type": "code",
      "metadata": {
        "id": "5digIJQOaL1L"
      },
      "source": [
        "import tensorflow as tf\n",
        "from keras import models,layers,optimizers,losses\n",
        "network=models.Sequential()\n",
        "network.add(layers.Dense(10,activation=\"relu\" ,input_shape=(X_train.shape[1],)))\n",
        "network.add(layers.Dropout(0.2))\n",
        "network.add(layers.Dense(8,activation=\"relu\"))\n",
        "#network.add(layers.Dropout(0.2))\n",
        "network.add(layers.Dense(6,activation=\"relu\"))\n",
        "network.add(layers.Dense(1))\n",
        "network.compile(optimizer=\"rmsprop\",loss=\"mse\",metrics=[\"mae\"])"
      ],
      "execution_count": 21,
      "outputs": []
    },
    {
      "cell_type": "code",
      "metadata": {
        "colab": {
          "base_uri": "https://localhost:8080/"
        },
        "id": "-uJr_d2kaRZz",
        "outputId": "519ddf48-81df-4a45-f41a-c1ea683a079b"
      },
      "source": [
        "network.summary()"
      ],
      "execution_count": 22,
      "outputs": [
        {
          "output_type": "stream",
          "text": [
            "Model: \"sequential\"\n",
            "_________________________________________________________________\n",
            "Layer (type)                 Output Shape              Param #   \n",
            "=================================================================\n",
            "dense (Dense)                (None, 10)                160       \n",
            "_________________________________________________________________\n",
            "dropout (Dropout)            (None, 10)                0         \n",
            "_________________________________________________________________\n",
            "dense_1 (Dense)              (None, 8)                 88        \n",
            "_________________________________________________________________\n",
            "dense_2 (Dense)              (None, 6)                 54        \n",
            "_________________________________________________________________\n",
            "dense_3 (Dense)              (None, 1)                 7         \n",
            "=================================================================\n",
            "Total params: 309\n",
            "Trainable params: 309\n",
            "Non-trainable params: 0\n",
            "_________________________________________________________________\n"
          ],
          "name": "stdout"
        }
      ]
    },
    {
      "cell_type": "code",
      "metadata": {
        "colab": {
          "base_uri": "https://localhost:8080/"
        },
        "id": "tepQvw_4aXIE",
        "outputId": "b578e0b1-555b-4df5-d17f-90890ec1946e"
      },
      "source": [
        "history=network.fit(partial_x_train, partial_y_train,epochs=45, batch_size=1, verbose=1,validation_data=(val_x,val_y))"
      ],
      "execution_count": 23,
      "outputs": [
        {
          "output_type": "stream",
          "text": [
            "Epoch 1/45\n",
            "94/94 [==============================] - 1s 6ms/step - loss: 1.1156 - mae: 0.8208 - val_loss: 1.0864 - val_mae: 0.7712\n",
            "Epoch 2/45\n",
            "94/94 [==============================] - 0s 2ms/step - loss: 0.5249 - mae: 0.5334 - val_loss: 0.9078 - val_mae: 0.6722\n",
            "Epoch 3/45\n",
            "94/94 [==============================] - 0s 2ms/step - loss: 0.4012 - mae: 0.4722 - val_loss: 0.8409 - val_mae: 0.6463\n",
            "Epoch 4/45\n",
            "94/94 [==============================] - 0s 2ms/step - loss: 0.7807 - mae: 0.5074 - val_loss: 0.6805 - val_mae: 0.5694\n",
            "Epoch 5/45\n",
            "94/94 [==============================] - 0s 2ms/step - loss: 0.4897 - mae: 0.4749 - val_loss: 0.6764 - val_mae: 0.5435\n",
            "Epoch 6/45\n",
            "94/94 [==============================] - 0s 2ms/step - loss: 0.3089 - mae: 0.3669 - val_loss: 0.6269 - val_mae: 0.5066\n",
            "Epoch 7/45\n",
            "94/94 [==============================] - 0s 3ms/step - loss: 0.4474 - mae: 0.4112 - val_loss: 0.5562 - val_mae: 0.4862\n",
            "Epoch 8/45\n",
            "94/94 [==============================] - 0s 2ms/step - loss: 0.4668 - mae: 0.3606 - val_loss: 0.5283 - val_mae: 0.4663\n",
            "Epoch 9/45\n",
            "94/94 [==============================] - 0s 2ms/step - loss: 0.4085 - mae: 0.4045 - val_loss: 0.5203 - val_mae: 0.4551\n",
            "Epoch 10/45\n",
            "94/94 [==============================] - 0s 3ms/step - loss: 0.4679 - mae: 0.4280 - val_loss: 0.4917 - val_mae: 0.4432\n",
            "Epoch 11/45\n",
            "94/94 [==============================] - 0s 2ms/step - loss: 0.3535 - mae: 0.3699 - val_loss: 0.4507 - val_mae: 0.4215\n",
            "Epoch 12/45\n",
            "94/94 [==============================] - 0s 2ms/step - loss: 0.3539 - mae: 0.3150 - val_loss: 0.4954 - val_mae: 0.4382\n",
            "Epoch 13/45\n",
            "94/94 [==============================] - 0s 2ms/step - loss: 0.2660 - mae: 0.3432 - val_loss: 0.4550 - val_mae: 0.4286\n",
            "Epoch 14/45\n",
            "94/94 [==============================] - 0s 2ms/step - loss: 0.4041 - mae: 0.3939 - val_loss: 0.4071 - val_mae: 0.4080\n",
            "Epoch 15/45\n",
            "94/94 [==============================] - 0s 2ms/step - loss: 0.1565 - mae: 0.2756 - val_loss: 0.3733 - val_mae: 0.3857\n",
            "Epoch 16/45\n",
            "94/94 [==============================] - 0s 2ms/step - loss: 0.6567 - mae: 0.4566 - val_loss: 0.4443 - val_mae: 0.4164\n",
            "Epoch 17/45\n",
            "94/94 [==============================] - 0s 2ms/step - loss: 0.2095 - mae: 0.2912 - val_loss: 0.3670 - val_mae: 0.3949\n",
            "Epoch 18/45\n",
            "94/94 [==============================] - 0s 2ms/step - loss: 0.1800 - mae: 0.2781 - val_loss: 0.3489 - val_mae: 0.3758\n",
            "Epoch 19/45\n",
            "94/94 [==============================] - 0s 3ms/step - loss: 0.1696 - mae: 0.2595 - val_loss: 0.4074 - val_mae: 0.4011\n",
            "Epoch 20/45\n",
            "94/94 [==============================] - 0s 2ms/step - loss: 0.2587 - mae: 0.3445 - val_loss: 0.3786 - val_mae: 0.3937\n",
            "Epoch 21/45\n",
            "94/94 [==============================] - 0s 2ms/step - loss: 0.2431 - mae: 0.2979 - val_loss: 0.3183 - val_mae: 0.3660\n",
            "Epoch 22/45\n",
            "94/94 [==============================] - 0s 2ms/step - loss: 0.2423 - mae: 0.3069 - val_loss: 0.3213 - val_mae: 0.3622\n",
            "Epoch 23/45\n",
            "94/94 [==============================] - 0s 2ms/step - loss: 0.1870 - mae: 0.2415 - val_loss: 0.3085 - val_mae: 0.3565\n",
            "Epoch 24/45\n",
            "94/94 [==============================] - 0s 2ms/step - loss: 0.2940 - mae: 0.2973 - val_loss: 0.3012 - val_mae: 0.3599\n",
            "Epoch 25/45\n",
            "94/94 [==============================] - 0s 2ms/step - loss: 0.2210 - mae: 0.2991 - val_loss: 0.2773 - val_mae: 0.3355\n",
            "Epoch 26/45\n",
            "94/94 [==============================] - 0s 2ms/step - loss: 0.0874 - mae: 0.1997 - val_loss: 0.2763 - val_mae: 0.3360\n",
            "Epoch 27/45\n",
            "94/94 [==============================] - 0s 2ms/step - loss: 0.1967 - mae: 0.3040 - val_loss: 0.2720 - val_mae: 0.3290\n",
            "Epoch 28/45\n",
            "94/94 [==============================] - 0s 2ms/step - loss: 0.2520 - mae: 0.3146 - val_loss: 0.2542 - val_mae: 0.3324\n",
            "Epoch 29/45\n",
            "94/94 [==============================] - 0s 2ms/step - loss: 0.1256 - mae: 0.2326 - val_loss: 0.2539 - val_mae: 0.3231\n",
            "Epoch 30/45\n",
            "94/94 [==============================] - 0s 2ms/step - loss: 0.1419 - mae: 0.2514 - val_loss: 0.2980 - val_mae: 0.3630\n",
            "Epoch 31/45\n",
            "94/94 [==============================] - 0s 3ms/step - loss: 0.2959 - mae: 0.3016 - val_loss: 0.2614 - val_mae: 0.3271\n",
            "Epoch 32/45\n",
            "94/94 [==============================] - 0s 2ms/step - loss: 0.2136 - mae: 0.2805 - val_loss: 0.2501 - val_mae: 0.3345\n",
            "Epoch 33/45\n",
            "94/94 [==============================] - 0s 2ms/step - loss: 0.6674 - mae: 0.3506 - val_loss: 0.2659 - val_mae: 0.3397\n",
            "Epoch 34/45\n",
            "94/94 [==============================] - 0s 2ms/step - loss: 0.1094 - mae: 0.2443 - val_loss: 0.2298 - val_mae: 0.3104\n",
            "Epoch 35/45\n",
            "94/94 [==============================] - 0s 2ms/step - loss: 0.1135 - mae: 0.2007 - val_loss: 0.2361 - val_mae: 0.3171\n",
            "Epoch 36/45\n",
            "94/94 [==============================] - 0s 2ms/step - loss: 0.1902 - mae: 0.2728 - val_loss: 0.2441 - val_mae: 0.3193\n",
            "Epoch 37/45\n",
            "94/94 [==============================] - 0s 2ms/step - loss: 0.1361 - mae: 0.2362 - val_loss: 0.2165 - val_mae: 0.3001\n",
            "Epoch 38/45\n",
            "94/94 [==============================] - 0s 2ms/step - loss: 0.1816 - mae: 0.2525 - val_loss: 0.2453 - val_mae: 0.3041\n",
            "Epoch 39/45\n",
            "94/94 [==============================] - 0s 2ms/step - loss: 0.1278 - mae: 0.2334 - val_loss: 0.2344 - val_mae: 0.3097\n",
            "Epoch 40/45\n",
            "94/94 [==============================] - 0s 2ms/step - loss: 0.1292 - mae: 0.2579 - val_loss: 0.2150 - val_mae: 0.3156\n",
            "Epoch 41/45\n",
            "94/94 [==============================] - 0s 2ms/step - loss: 0.1226 - mae: 0.2076 - val_loss: 0.2273 - val_mae: 0.3177\n",
            "Epoch 42/45\n",
            "94/94 [==============================] - 0s 2ms/step - loss: 0.1273 - mae: 0.2387 - val_loss: 0.2158 - val_mae: 0.3047\n",
            "Epoch 43/45\n",
            "94/94 [==============================] - 0s 2ms/step - loss: 0.1665 - mae: 0.2488 - val_loss: 0.2343 - val_mae: 0.2993\n",
            "Epoch 44/45\n",
            "94/94 [==============================] - 0s 2ms/step - loss: 0.1144 - mae: 0.1993 - val_loss: 0.2110 - val_mae: 0.3009\n",
            "Epoch 45/45\n",
            "94/94 [==============================] - 0s 2ms/step - loss: 0.2439 - mae: 0.2488 - val_loss: 0.2252 - val_mae: 0.3069\n"
          ],
          "name": "stdout"
        }
      ]
    },
    {
      "cell_type": "code",
      "metadata": {
        "colab": {
          "base_uri": "https://localhost:8080/",
          "height": 295
        },
        "id": "2ljxc7LHae_M",
        "outputId": "8e08dc61-a370-4827-a832-38329cb8f49d"
      },
      "source": [
        "loss = history.history['loss']\n",
        "val_loss = history.history['val_loss']\n",
        "epochs = range(1, len(loss) + 1)\n",
        "plt.plot(epochs, loss,\"go\",label='Training loss')\n",
        "plt.plot(epochs, val_loss, 'r', label='Validation loss')\n",
        "plt.title('Training and validation loss')\n",
        "plt.xlabel('Epochs')\n",
        "plt.ylabel('Loss')\n",
        "plt.legend()\n",
        "plt.grid()\n",
        "plt.show()"
      ],
      "execution_count": 24,
      "outputs": [
        {
          "output_type": "display_data",
          "data": {
            "image/png": "[encoded data removed]",
            "text/plain": [
              "<Figure size 432x288 with 1 Axes>"
            ]
          },
          "metadata": {
            "tags": [],
            "needs_background": "light"
          }
        }
      ]
    },
    {
      "cell_type": "code",
      "metadata": {
        "colab": {
          "base_uri": "https://localhost:8080/"
        },
        "id": "Ft83IZfNalSL",
        "outputId": "a54e92ac-3926-4d7e-dc38-04630b814c86"
      },
      "source": [
        "network.evaluate(X_test,y_test)"
      ],
      "execution_count": 25,
      "outputs": [
        {
          "output_type": "stream",
          "text": [
            "2/2 [==============================] - 0s 6ms/step - loss: 0.1926 - mae: 0.2832\n"
          ],
          "name": "stdout"
        },
        {
          "output_type": "execute_result",
          "data": {
            "text/plain": [
              "[0.19262148439884186, 0.28324833512306213]"
            ]
          },
          "metadata": {
            "tags": []
          },
          "execution_count": 25
        }
      ]
    },
    {
      "cell_type": "code",
      "metadata": {
        "colab": {
          "base_uri": "https://localhost:8080/"
        },
        "id": "0DvHVbczaoOM",
        "outputId": "94cb01e6-fa14-4eb1-b5bf-3281ee322fcc"
      },
      "source": [
        "result_1=network.predict(X_test)\n",
        "result_1[4]"
      ],
      "execution_count": 26,
      "outputs": [
        {
          "output_type": "execute_result",
          "data": {
            "text/plain": [
              "array([0.9033128], dtype=float32)"
            ]
          },
          "metadata": {
            "tags": []
          },
          "execution_count": 26
        }
      ]
    },
    {
      "cell_type": "code",
      "metadata": {
        "colab": {
          "base_uri": "https://localhost:8080/",
          "height": 295
        },
        "id": "K3qRl9W5b-VH",
        "outputId": "7c889a68-ab82-4257-d12e-072c02b68086"
      },
      "source": [
        "y=result_1\n",
        "y1=range(62)\n",
        "x=y_test\n",
        "plt.scatter(x, y1, label= \"Actual price\", color= \"green\", marker= \"*\", s=100)\n",
        "plt.scatter(y, y1, label= \"Predicted Price\", color= \"yellow\", marker= \"^\", s=100)\n",
        "plt.xlabel('Price')\n",
        "plt.ylabel('Rows')\n",
        "plt.title('Actual price vs predicted price!')\n",
        "plt.legend()\n",
        "plt.grid()\n",
        "plt.show()"
      ],
      "execution_count": 27,
      "outputs": [
        {
          "output_type": "display_data",
          "data": {
            "image/png": "[encoded data removed]",
            "text/plain": [
              "<Figure size 432x288 with 1 Axes>"
            ]
          },
          "metadata": {
            "tags": [],
            "needs_background": "light"
          }
        }
      ]
    }
  ]
}
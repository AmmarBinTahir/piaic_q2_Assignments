{
 "cells": [
  {
   "cell_type": "code",
   "execution_count": 25,
   "metadata": {},
   "outputs": [],
   "source": [
    "#1. Start by importing NumPy as np\n",
    "\n",
    "\n",
    "import numpy as np"
   ]
  },
  {
   "cell_type": "code",
   "execution_count": 26,
   "metadata": {},
   "outputs": [
    {
     "data": {
      "text/plain": [
       "array([2.  , 0.75, 2.  , 1.  , 0.5 ])"
      ]
     },
     "execution_count": 26,
     "metadata": {},
     "output_type": "execute_result"
    }
   ],
   "source": [
    "# All of Alize’s recipes call for milk, eggs, sugar, flour, and butter. For example, her cupcake recipe calls for:\n",
    "#Flour Sugar Eggs Milk Butter 2 cups 0.75 cups 2 eggs 1 cups 0.5 cups Create a NumPy array that represents this data. Each element should be a number (i.e., 2 for “2 cups”). Save this array as cupcakes.\n",
    "\n",
    "\n",
    "cupcakes = np.array([2,0.75,2,1,0.5])\n",
    "cupcakes"
   ]
  },
  {
   "cell_type": "code",
   "execution_count": 31,
   "metadata": {},
   "outputs": [
    {
     "data": {
      "text/plain": [
       "array([[2.   , 0.75 , 2.   , 1.   , 0.5  ],\n",
       "       [1.   , 0.125, 1.   , 1.   , 0.125],\n",
       "       [2.75 , 1.5  , 1.   , 0.   , 1.   ],\n",
       "       [4.   , 0.5  , 2.   , 2.   , 0.5  ]])"
      ]
     },
     "execution_count": 31,
     "metadata": {},
     "output_type": "execute_result"
    }
   ],
   "source": [
    "#Alize’s assistant has compiled all of her recipes into a csv (comma-separated variable) file called recipes.csv. Load this file into a variable called recipes.\n",
    "#####Explore yourselves how to load a csv file in numpy\n",
    "\n",
    "from numpy import loadtxt \n",
    "\n",
    "recipes = np.loadtxt(open('Recipes.csv', 'rb'), delimiter=',')\n",
    "recipes"
   ]
  },
  {
   "cell_type": "code",
   "execution_count": 28,
   "metadata": {},
   "outputs": [
    {
     "name": "stdout",
     "output_type": "stream",
     "text": [
      "Cupcakes: [2.   0.75 2.   1.   0.5 ]\n",
      "Pancakes: [1.    0.125 1.    1.    0.125]\n",
      "Cookie: [2.75 1.5  1.   0.   1.  ]\n",
      "Bread: [4.  0.5 2.  2.  0.5]\n"
     ]
    }
   ],
   "source": [
    "# 4.Display recipes using print. Display recipes using print.\n",
    "\n",
    "#Each row represents a different recipe. Each column represents a different ingredient.\n",
    "\n",
    "# Recipe Cups of Flour Cups of Sugar Eggs Cups of Milk Cups of Butter\n",
    "\n",
    "# Cupcakes … … … … …\n",
    "\n",
    "# Pancake … … … … …\n",
    "\n",
    "# Cookie … … … … …\n",
    "\n",
    "# Bread … … … … …\n",
    "\n",
    "print('Cupcakes:',recipes[0,:])\n",
    "print('Pancakes:',recipes[1,:])\n",
    "print('Cookie:',recipes[2,:])\n",
    "print('Bread:',recipes[3,:])\n",
    "\n"
   ]
  },
  {
   "cell_type": "code",
   "execution_count": 29,
   "metadata": {},
   "outputs": [
    {
     "data": {
      "text/plain": [
       "array([2., 1., 1., 2.])"
      ]
     },
     "execution_count": 29,
     "metadata": {},
     "output_type": "execute_result"
    }
   ],
   "source": [
    "# 5.The 3rd column represents the number of eggs that each recipe needs.\n",
    "\n",
    "# Select all elements from the 3rd column and save them to the variable eggs.\n",
    "\n",
    "eggs = recipes[:,2]\n",
    "eggs\n"
   ]
  },
  {
   "cell_type": "code",
   "execution_count": 30,
   "metadata": {},
   "outputs": [
    {
     "name": "stdout",
     "output_type": "stream",
     "text": [
      "[False  True  True False]\n",
      "Pancake: [1.    0.125 1.    1.    0.125]\n",
      "Cookie: [2.75 1.5  1.   0.   1.  ]\n"
     ]
    },
    {
     "data": {
      "text/plain": [
       "array([[1.   , 0.125, 1.   , 1.   , 0.125],\n",
       "       [2.75 , 1.5  , 1.   , 0.   , 1.   ]])"
      ]
     },
     "execution_count": 30,
     "metadata": {},
     "output_type": "execute_result"
    }
   ],
   "source": [
    "# 6.Which recipes require exactly 1 egg? Use a logical statement to get True or False for each value of eggs.\n",
    "\n",
    "mask = (eggs == 1)\n",
    "print(mask)\n",
    "print(f'Pancake: {recipes[mask][0]}')\n",
    "print(f'Cookie: {recipes[mask][1]}')\n",
    "recipes[mask]"
   ]
  },
  {
   "cell_type": "code",
   "execution_count": 32,
   "metadata": {},
   "outputs": [
    {
     "data": {
      "text/plain": [
       "array([2.75, 1.5 , 1.  , 0.  , 1.  ])"
      ]
     },
     "execution_count": 32,
     "metadata": {},
     "output_type": "execute_result"
    }
   ],
   "source": [
    "\n",
    "# 7.Alize is going to make 2 batches of cupcakes (1st row) and 1 batch of cookies (3rd row).\n",
    "\n",
    "# You already have a variable for cupcakes. Create a variable for cookies with the data from the 3rd row.\n",
    "\n",
    "cookies = recipes[2,:]\n",
    "cookies"
   ]
  },
  {
   "cell_type": "code",
   "execution_count": 33,
   "metadata": {},
   "outputs": [
    {
     "data": {
      "text/plain": [
       "array([4. , 1.5, 4. , 2. , 1. ])"
      ]
     },
     "execution_count": 33,
     "metadata": {},
     "output_type": "execute_result"
    }
   ],
   "source": [
    "#8. Get the number of ingredients for a double batch of cupcakes by using multiplication on cupcakes. Save your new variable to double_batch.\n",
    "\n",
    "double_batch = cupcakes*2\n",
    "double_batch"
   ]
  },
  {
   "cell_type": "code",
   "execution_count": 34,
   "metadata": {},
   "outputs": [
    {
     "data": {
      "text/plain": [
       "array([6.75, 3.  , 5.  , 2.  , 2.  ])"
      ]
     },
     "execution_count": 34,
     "metadata": {},
     "output_type": "execute_result"
    }
   ],
   "source": [
    "# 9. Create a new variable called grocery_list by adding cookies and double_batch.\n",
    "\n",
    "\n",
    "grocery_list = cookies+double_batch\n",
    "grocery_list"
   ]
  },
  {
   "cell_type": "code",
   "execution_count": null,
   "metadata": {},
   "outputs": [],
   "source": []
  }
 ],
 "metadata": {
  "kernelspec": {
   "display_name": "Python 3",
   "language": "python",
   "name": "python3"
  },
  "language_info": {
   "codemirror_mode": {
    "name": "ipython",
    "version": 3
   },
   "file_extension": ".py",
   "mimetype": "text/x-python",
   "name": "python",
   "nbconvert_exporter": "python",
   "pygments_lexer": "ipython3",
   "version": "3.7.6"
  }
 },
 "nbformat": 4,
 "nbformat_minor": 4
}

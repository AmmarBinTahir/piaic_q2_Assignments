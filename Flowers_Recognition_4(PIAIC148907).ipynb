{
  "nbformat": 4,
  "nbformat_minor": 0,
  "metadata": {
    "colab": {
      "name": "Flowers Recognition_4(PIAIC148907).ipynb",
      "provenance": []
    },
    "kernelspec": {
      "name": "python3",
      "display_name": "Python 3"
    },
    "language_info": {
      "name": "python"
    }
  },
  "cells": [
    {
      "cell_type": "markdown",
      "metadata": {
        "id": "qXVO0ePltM3q"
      },
      "source": [
        "**Assignment: Flowers Recognition**\n",
        "\n",
        "**Dataset Description:**\n",
        "\n",
        "This dataset contains 4242 images of flowers.\n",
        "The data collection is based on the data flicr, google images, yandex images.\n",
        "You can use this datastet to recognize plants from the photo.\n",
        "\n",
        "Attribute Information:\n",
        "The pictures are divided into five classes: chamomile, tulip, rose, sunflower, dandelion.\n",
        "For each class there are about 800 photos. Photos are not high resolution, about 320x240 pixels.\n",
        "Also explore how to resize images in tensorflow and then resize all the images to a same size.\n",
        "This is a Multiclass Classification Problem.\n",
        "\n",
        "**WORKFLOW :**\n",
        "\n",
        "**Load Data**\n",
        "Split into 60 and 40 ratio.\n",
        "Encode labels.\n",
        "Create Model\n",
        "Compilation Step (Note : Its a Multiclass Classification problem , select loss , metrics according to it)\n",
        "Train the Model.\n",
        "If the model gets overfit tune your model by changing the units , No. of layers , epochs , add dropout layer or add Regularizer according to the need .\n",
        "Prediction should be > 85%\n",
        "Evaluation Step\n",
        "Prediction\n",
        "\n",
        "\n",
        "\n",
        "\n",
        "https://drive.google.com/file/d/1-OX6wn5gA-bJpjPNfSyaYQLz-A-AB_uj/view?usp=sharing"
      ]
    },
    {
      "cell_type": "code",
      "metadata": {
        "id": "nXSQOzWbtdA6"
      },
      "source": [
        "import numpy as np\n",
        "import pandas as pd\n",
        "from matplotlib import pyplot as plt\n",
        "import os\n",
        "import PIL\n",
        "import PIL.Image\n",
        "import tensorflow as tf\n",
        "import pathlib\n",
        "from tensorflow.keras import layers\n",
        "import tensorflow_datasets as tfds\n",
        "import glob\n",
        "import pickle \n",
        "import cv2\n",
        "from skimage import io\n",
        "from skimage.transform import resize\n",
        "from sklearn.preprocessing import LabelBinarizer\n",
        "from sklearn.model_selection import train_test_split\n",
        "from tensorflow.keras.models import Sequential\n",
        "from tensorflow.keras.layers import Dense, Dropout, Flatten, Activation\n",
        "from tensorflow.keras.layers import Conv2D, MaxPooling2D, BatchNormalization\n",
        "from tensorflow.keras.optimizers import Adam\n",
        "from tensorflow.keras.preprocessing.image import ImageDataGenerator\n",
        "from tensorflow.keras.utils import to_categorical\n",
        "from pathlib import Path\n",
        "import seaborn as sb\n",
        "sb.set()\n",
        "from tensorflow.keras import layers"
      ],
      "execution_count": null,
      "outputs": []
    },
    {
      "cell_type": "code",
      "metadata": {
        "id": "vj3YpAzf3QWd",
        "colab": {
          "base_uri": "https://localhost:8080/"
        },
        "outputId": "ce99180a-b900-4f8b-dd72-0fdffe76ee6b"
      },
      "source": [
        "from google.colab import drive\n",
        "drive.mount(\"/content/drive\")"
      ],
      "execution_count": null,
      "outputs": [
        {
          "output_type": "stream",
          "text": [
            "Drive already mounted at /content/drive; to attempt to forcibly remount, call drive.mount(\"/content/drive\", force_remount=True).\n"
          ],
          "name": "stdout"
        }
      ]
    },
    {
      "cell_type": "code",
      "metadata": {
        "id": "WFXW73DKU8Lq"
      },
      "source": [
        "directory= Path(\"/content/drive/MyDrive/flowers\")"
      ],
      "execution_count": null,
      "outputs": []
    },
    {
      "cell_type": "code",
      "metadata": {
        "colab": {
          "base_uri": "https://localhost:8080/"
        },
        "id": "ULiHRrDpVSYp",
        "outputId": "f555d177-39d9-4ed8-907e-09f3ac248bcb"
      },
      "source": [
        "image_names = []\n",
        "data_images = []\n",
        "labels = []\n",
        "\n",
        "# Iterating Over Directory To Extract Sub Directories\n",
        "for dir in directory.iterdir():\n",
        "  image_names.append(dir.name)\n",
        "  print(dir.name)\n",
        "# Iterating Over Sub Directories To Extract Lables\n",
        "  for imgpath in dir.iterdir():\n",
        "    if imgpath.name.endswith(\"jpg\"):\n",
        "      labels.append(dir.name)\n",
        "      imgarr = cv2.imread(str(imgpath), cv2.IMREAD_GRAYSCALE)\n",
        "      imgarr = cv2.resize(imgarr, (320,240))\n",
        "      data_images.append(imgarr)"
      ],
      "execution_count": null,
      "outputs": [
        {
          "output_type": "stream",
          "text": [
            "rose\n",
            "dandelion\n",
            "tulip\n",
            "sunflower\n",
            "daisy\n",
            "flowers\n"
          ],
          "name": "stdout"
        }
      ]
    },
    {
      "cell_type": "code",
      "metadata": {
        "id": "rEWq2GgsVovr"
      },
      "source": [
        "# maping the string label \n",
        "df=pd.DataFrame(labels)\n",
        "labels=df[0].map({\"rose\":0,\"sunflower\":1,\"tulip\":2,\"daisy\":3,\"dandelion\":4})\n"
      ],
      "execution_count": null,
      "outputs": []
    },
    {
      "cell_type": "code",
      "metadata": {
        "id": "FzxBr3ggWunL"
      },
      "source": [
        "# data and label spliting by machine learning\n",
        "import sklearn\n",
        "from sklearn.model_selection import train_test_split\n",
        "X_train,X_test,y_train,y_test=train_test_split(data_images,labels,test_size=.40,random_state=0)"
      ],
      "execution_count": 10,
      "outputs": []
    },
    {
      "cell_type": "code",
      "metadata": {
        "id": "-ddlEXUlW1uC"
      },
      "source": [
        "#Data conversion into numpy array and data type float\n",
        "X_train=np.asarray(X_train).astype(\"float32\")\n",
        "X_test=np.asarray(X_test).astype(\"float32\")"
      ],
      "execution_count": 18,
      "outputs": []
    },
    {
      "cell_type": "code",
      "metadata": {
        "colab": {
          "base_uri": "https://localhost:8080/"
        },
        "id": "gr8s6jc5b_It",
        "outputId": "c1f0242e-8b9b-4d65-c236-46c7470ee0e7"
      },
      "source": [
        "#Print the shape of training data,testing data,training labels,testing labels\n",
        "\n",
        "print(f\"shape of training data is :{X_train.shape}\\nshape of training label is :{y_train.shape}\\nshape of testing data is :{X_test.shape}\\nshape of testing label is :{y_test.shape}\")"
      ],
      "execution_count": 19,
      "outputs": [
        {
          "output_type": "stream",
          "text": [
            "shape of training data is :(2593, 240, 320)\n",
            "shape of training label is :(2593,)\n",
            "shape of testing data is :(1730, 240, 320)\n",
            "shape of testing label is :(1730,)\n"
          ],
          "name": "stdout"
        }
      ]
    },
    {
      "cell_type": "code",
      "metadata": {
        "id": "rUCr-Gj_cTLj"
      },
      "source": [
        "#Reshaping\n",
        "X_train=X_train.reshape(2593,320*240)\n",
        "X_test=X_test.reshape(1730,320*240)"
      ],
      "execution_count": 20,
      "outputs": []
    },
    {
      "cell_type": "code",
      "metadata": {
        "colab": {
          "base_uri": "https://localhost:8080/"
        },
        "id": "J7NnF6qSdNxs",
        "outputId": "52ba50fe-55af-40bd-b96a-efa81d89a3bc"
      },
      "source": [
        "#checking the value of train data\n",
        "X_train[0]"
      ],
      "execution_count": 21,
      "outputs": [
        {
          "output_type": "execute_result",
          "data": {
            "text/plain": [
              "array([ 95.,  95.,  95., ..., 187., 183., 177.], dtype=float32)"
            ]
          },
          "metadata": {
            "tags": []
          },
          "execution_count": 21
        }
      ]
    },
    {
      "cell_type": "code",
      "metadata": {
        "colab": {
          "base_uri": "https://localhost:8080/"
        },
        "id": "hqPK6krHgZ2m",
        "outputId": "ccf2b6c2-b627-44e4-89b8-7d2ced0a7a55"
      },
      "source": [
        "#checking the data value test\n",
        "X_test[0]"
      ],
      "execution_count": 22,
      "outputs": [
        {
          "output_type": "execute_result",
          "data": {
            "text/plain": [
              "array([74., 75., 85., ..., 56., 52., 65.], dtype=float32)"
            ]
          },
          "metadata": {
            "tags": []
          },
          "execution_count": 22
        }
      ]
    },
    {
      "cell_type": "code",
      "metadata": {
        "id": "Uz5svoHKgnbt"
      },
      "source": [
        "#normalize the data\n",
        "X_train=X_train/255.0\n",
        "X_test=X_test/255.0"
      ],
      "execution_count": 26,
      "outputs": []
    },
    {
      "cell_type": "code",
      "metadata": {
        "id": "nvr6n7qlhbDV"
      },
      "source": [
        " from keras.utils import to_categorical\n",
        " y_train=to_categorical(y_train)\n",
        " y_test=to_categorical(y_test)"
      ],
      "execution_count": 27,
      "outputs": []
    },
    {
      "cell_type": "code",
      "metadata": {
        "id": "a6aNLlREhyY9"
      },
      "source": [
        "# import the keras libararies\n",
        "from tensorflow.keras.models import Sequential\n",
        "from tensorflow.keras.layers import Dense, Dropout\n",
        "from keras.optimizers import Adam, RMSprop"
      ],
      "execution_count": 29,
      "outputs": []
    },
    {
      "cell_type": "code",
      "metadata": {
        "id": "n0-N-806h5c-"
      },
      "source": [
        "#model building\n",
        "network_model=Sequential()\n",
        "network_model.add(Dense(250,activation=\"relu\",input_shape=(X_train.shape[1],)))\n",
        "network_model.add(Dropout(0.2))\n",
        "network_model.add(Dense(128,activation=\"relu\"))\n",
        "\n",
        "#network_model.add(Dropout(0.2))\n",
        "network_model.add(Dense(64,activation=\"relu\"))\n",
        "network_model.add(Dropout(0.2))\n",
        "network_model.add(Dense(5,activation=\"softmax\"))"
      ],
      "execution_count": 46,
      "outputs": []
    },
    {
      "cell_type": "code",
      "metadata": {
        "colab": {
          "base_uri": "https://localhost:8080/"
        },
        "id": "yEgsIxqQiKA9",
        "outputId": "3db39b6f-515f-44d8-9a79-ad4c1765959d"
      },
      "source": [
        "#summary of the Model\n",
        "network_model.summary()"
      ],
      "execution_count": 47,
      "outputs": [
        {
          "output_type": "stream",
          "text": [
            "Model: \"sequential_2\"\n",
            "_________________________________________________________________\n",
            "Layer (type)                 Output Shape              Param #   \n",
            "=================================================================\n",
            "dense_8 (Dense)              (None, 250)               19200250  \n",
            "_________________________________________________________________\n",
            "dropout_4 (Dropout)          (None, 250)               0         \n",
            "_________________________________________________________________\n",
            "dense_9 (Dense)              (None, 128)               32128     \n",
            "_________________________________________________________________\n",
            "dense_10 (Dense)             (None, 64)                8256      \n",
            "_________________________________________________________________\n",
            "dropout_5 (Dropout)          (None, 64)                0         \n",
            "_________________________________________________________________\n",
            "dense_11 (Dense)             (None, 5)                 325       \n",
            "=================================================================\n",
            "Total params: 19,240,959\n",
            "Trainable params: 19,240,959\n",
            "Non-trainable params: 0\n",
            "_________________________________________________________________\n"
          ],
          "name": "stdout"
        }
      ]
    },
    {
      "cell_type": "code",
      "metadata": {
        "id": "xvwMEhvqicT_"
      },
      "source": [
        "#Compilation Step\n",
        "network_model.compile(optimizer=RMSprop(0.0001), loss = 'categorical_crossentropy', metrics = ['accuracy'])"
      ],
      "execution_count": 48,
      "outputs": []
    },
    {
      "cell_type": "code",
      "metadata": {
        "colab": {
          "base_uri": "https://localhost:8080/"
        },
        "id": "ygEtMD5Uijfm",
        "outputId": "d6d8b3ee-87fb-4dfc-d1ca-71efdab4b2c1"
      },
      "source": [
        "history=network_model.fit(X_train, y_train,batch_size=20,epochs=100)"
      ],
      "execution_count": 49,
      "outputs": [
        {
          "output_type": "stream",
          "text": [
            "Epoch 1/100\n",
            "130/130 [==============================] - 22s 163ms/step - loss: 1.6085 - accuracy: 0.2347\n",
            "Epoch 2/100\n",
            "130/130 [==============================] - 21s 163ms/step - loss: 1.6060 - accuracy: 0.2408\n",
            "Epoch 3/100\n",
            "130/130 [==============================] - 21s 162ms/step - loss: 1.6033 - accuracy: 0.2326\n",
            "Epoch 4/100\n",
            "130/130 [==============================] - 21s 163ms/step - loss: 1.6013 - accuracy: 0.2161\n",
            "Epoch 5/100\n",
            "130/130 [==============================] - 21s 163ms/step - loss: 1.6027 - accuracy: 0.2379\n",
            "Epoch 6/100\n",
            "130/130 [==============================] - 21s 163ms/step - loss: 1.5981 - accuracy: 0.2529\n",
            "Epoch 7/100\n",
            "130/130 [==============================] - 21s 163ms/step - loss: 1.5965 - accuracy: 0.2473\n",
            "Epoch 8/100\n",
            "130/130 [==============================] - 21s 163ms/step - loss: 1.5994 - accuracy: 0.2402\n",
            "Epoch 9/100\n",
            "130/130 [==============================] - 21s 163ms/step - loss: 1.6005 - accuracy: 0.2356\n",
            "Epoch 10/100\n",
            "130/130 [==============================] - 21s 163ms/step - loss: 1.5965 - accuracy: 0.2460\n",
            "Epoch 11/100\n",
            "130/130 [==============================] - 21s 162ms/step - loss: 1.5956 - accuracy: 0.2483\n",
            "Epoch 12/100\n",
            "130/130 [==============================] - 21s 163ms/step - loss: 1.5925 - accuracy: 0.2499\n",
            "Epoch 13/100\n",
            "130/130 [==============================] - 21s 163ms/step - loss: 1.5973 - accuracy: 0.2446\n",
            "Epoch 14/100\n",
            "130/130 [==============================] - 21s 163ms/step - loss: 1.5979 - accuracy: 0.2344\n",
            "Epoch 15/100\n",
            "130/130 [==============================] - 21s 163ms/step - loss: 1.6001 - accuracy: 0.2338\n",
            "Epoch 16/100\n",
            "130/130 [==============================] - 21s 163ms/step - loss: 1.5907 - accuracy: 0.2428\n",
            "Epoch 17/100\n",
            "130/130 [==============================] - 21s 162ms/step - loss: 1.6010 - accuracy: 0.2334\n",
            "Epoch 18/100\n",
            "130/130 [==============================] - 21s 163ms/step - loss: 1.5936 - accuracy: 0.2468\n",
            "Epoch 19/100\n",
            "130/130 [==============================] - 21s 165ms/step - loss: 1.5892 - accuracy: 0.2624\n",
            "Epoch 20/100\n",
            "130/130 [==============================] - 21s 164ms/step - loss: 1.5913 - accuracy: 0.2566\n",
            "Epoch 21/100\n",
            "130/130 [==============================] - 21s 164ms/step - loss: 1.5947 - accuracy: 0.2550\n",
            "Epoch 22/100\n",
            "130/130 [==============================] - 21s 164ms/step - loss: 1.5893 - accuracy: 0.2473\n",
            "Epoch 23/100\n",
            "130/130 [==============================] - 21s 164ms/step - loss: 1.5896 - accuracy: 0.2464\n",
            "Epoch 24/100\n",
            "130/130 [==============================] - 21s 164ms/step - loss: 1.5860 - accuracy: 0.2541\n",
            "Epoch 25/100\n",
            "130/130 [==============================] - 21s 164ms/step - loss: 1.5826 - accuracy: 0.2560\n",
            "Epoch 26/100\n",
            "130/130 [==============================] - 21s 164ms/step - loss: 1.5846 - accuracy: 0.2466\n",
            "Epoch 27/100\n",
            "130/130 [==============================] - 21s 165ms/step - loss: 1.5837 - accuracy: 0.2553\n",
            "Epoch 28/100\n",
            "130/130 [==============================] - 22s 166ms/step - loss: 1.5788 - accuracy: 0.2581\n",
            "Epoch 29/100\n",
            "130/130 [==============================] - 22s 166ms/step - loss: 1.5733 - accuracy: 0.2604\n",
            "Epoch 30/100\n",
            "130/130 [==============================] - 21s 165ms/step - loss: 1.5777 - accuracy: 0.2643\n",
            "Epoch 31/100\n",
            "130/130 [==============================] - 21s 165ms/step - loss: 1.5747 - accuracy: 0.2731\n",
            "Epoch 32/100\n",
            "130/130 [==============================] - 21s 165ms/step - loss: 1.5681 - accuracy: 0.2852\n",
            "Epoch 33/100\n",
            "130/130 [==============================] - 21s 165ms/step - loss: 1.5731 - accuracy: 0.2641\n",
            "Epoch 34/100\n",
            "130/130 [==============================] - 22s 166ms/step - loss: 1.5657 - accuracy: 0.2810\n",
            "Epoch 35/100\n",
            "130/130 [==============================] - 22s 166ms/step - loss: 1.5691 - accuracy: 0.2760\n",
            "Epoch 36/100\n",
            "130/130 [==============================] - 22s 166ms/step - loss: 1.5677 - accuracy: 0.2643\n",
            "Epoch 37/100\n",
            "130/130 [==============================] - 22s 166ms/step - loss: 1.5641 - accuracy: 0.2713\n",
            "Epoch 38/100\n",
            "130/130 [==============================] - 22s 166ms/step - loss: 1.5626 - accuracy: 0.2690\n",
            "Epoch 39/100\n",
            "130/130 [==============================] - 21s 165ms/step - loss: 1.5655 - accuracy: 0.2908\n",
            "Epoch 40/100\n",
            "130/130 [==============================] - 21s 164ms/step - loss: 1.5521 - accuracy: 0.3056\n",
            "Epoch 41/100\n",
            "130/130 [==============================] - 21s 164ms/step - loss: 1.5564 - accuracy: 0.2871\n",
            "Epoch 42/100\n",
            "130/130 [==============================] - 22s 166ms/step - loss: 1.5600 - accuracy: 0.2678\n",
            "Epoch 43/100\n",
            "130/130 [==============================] - 21s 165ms/step - loss: 1.5511 - accuracy: 0.2888\n",
            "Epoch 44/100\n",
            "130/130 [==============================] - 22s 166ms/step - loss: 1.5467 - accuracy: 0.2960\n",
            "Epoch 45/100\n",
            "130/130 [==============================] - 21s 165ms/step - loss: 1.5525 - accuracy: 0.2966\n",
            "Epoch 46/100\n",
            "130/130 [==============================] - 22s 166ms/step - loss: 1.5518 - accuracy: 0.3104\n",
            "Epoch 47/100\n",
            "130/130 [==============================] - 21s 165ms/step - loss: 1.5484 - accuracy: 0.2932\n",
            "Epoch 48/100\n",
            "130/130 [==============================] - 21s 165ms/step - loss: 1.5376 - accuracy: 0.3028\n",
            "Epoch 49/100\n",
            "130/130 [==============================] - 21s 165ms/step - loss: 1.5372 - accuracy: 0.3196\n",
            "Epoch 50/100\n",
            "130/130 [==============================] - 22s 165ms/step - loss: 1.5359 - accuracy: 0.3017\n",
            "Epoch 51/100\n",
            "130/130 [==============================] - 22s 166ms/step - loss: 1.5386 - accuracy: 0.3020\n",
            "Epoch 52/100\n",
            "130/130 [==============================] - 21s 165ms/step - loss: 1.5408 - accuracy: 0.3040\n",
            "Epoch 53/100\n",
            "130/130 [==============================] - 21s 164ms/step - loss: 1.5349 - accuracy: 0.3204\n",
            "Epoch 54/100\n",
            "130/130 [==============================] - 21s 162ms/step - loss: 1.5358 - accuracy: 0.3142\n",
            "Epoch 55/100\n",
            "130/130 [==============================] - 21s 162ms/step - loss: 1.5392 - accuracy: 0.3015\n",
            "Epoch 56/100\n",
            "130/130 [==============================] - 21s 161ms/step - loss: 1.5263 - accuracy: 0.3200\n",
            "Epoch 57/100\n",
            "130/130 [==============================] - 21s 162ms/step - loss: 1.5277 - accuracy: 0.3063\n",
            "Epoch 58/100\n",
            "130/130 [==============================] - 21s 163ms/step - loss: 1.5219 - accuracy: 0.3179\n",
            "Epoch 59/100\n",
            "130/130 [==============================] - 21s 162ms/step - loss: 1.5362 - accuracy: 0.3058\n",
            "Epoch 60/100\n",
            "130/130 [==============================] - 21s 161ms/step - loss: 1.5310 - accuracy: 0.2957\n",
            "Epoch 61/100\n",
            "130/130 [==============================] - 21s 162ms/step - loss: 1.5210 - accuracy: 0.3125\n",
            "Epoch 62/100\n",
            "130/130 [==============================] - 21s 162ms/step - loss: 1.5364 - accuracy: 0.3148\n",
            "Epoch 63/100\n",
            "130/130 [==============================] - 21s 165ms/step - loss: 1.5118 - accuracy: 0.3138\n",
            "Epoch 64/100\n",
            "130/130 [==============================] - 21s 165ms/step - loss: 1.5194 - accuracy: 0.3194\n",
            "Epoch 65/100\n",
            "130/130 [==============================] - 21s 164ms/step - loss: 1.5160 - accuracy: 0.3141\n",
            "Epoch 66/100\n",
            "130/130 [==============================] - 21s 163ms/step - loss: 1.5085 - accuracy: 0.3227\n",
            "Epoch 67/100\n",
            "130/130 [==============================] - 21s 163ms/step - loss: 1.5260 - accuracy: 0.3153\n",
            "Epoch 68/100\n",
            "130/130 [==============================] - 21s 164ms/step - loss: 1.5172 - accuracy: 0.3045\n",
            "Epoch 69/100\n",
            "130/130 [==============================] - 21s 163ms/step - loss: 1.5105 - accuracy: 0.3164\n",
            "Epoch 70/100\n",
            "130/130 [==============================] - 22s 167ms/step - loss: 1.5088 - accuracy: 0.3251\n",
            "Epoch 71/100\n",
            "130/130 [==============================] - 22s 168ms/step - loss: 1.5146 - accuracy: 0.3041\n",
            "Epoch 72/100\n",
            "130/130 [==============================] - 21s 164ms/step - loss: 1.5203 - accuracy: 0.3160\n",
            "Epoch 73/100\n",
            "130/130 [==============================] - 22s 166ms/step - loss: 1.5112 - accuracy: 0.3282\n",
            "Epoch 74/100\n",
            "130/130 [==============================] - 21s 165ms/step - loss: 1.5134 - accuracy: 0.3115\n",
            "Epoch 75/100\n",
            "130/130 [==============================] - 22s 166ms/step - loss: 1.5201 - accuracy: 0.3091\n",
            "Epoch 76/100\n",
            "130/130 [==============================] - 22s 166ms/step - loss: 1.5008 - accuracy: 0.3262\n",
            "Epoch 77/100\n",
            "130/130 [==============================] - 22s 167ms/step - loss: 1.5163 - accuracy: 0.3134\n",
            "Epoch 78/100\n",
            "130/130 [==============================] - 22s 166ms/step - loss: 1.4981 - accuracy: 0.3316\n",
            "Epoch 79/100\n",
            "130/130 [==============================] - 22s 166ms/step - loss: 1.5103 - accuracy: 0.3207\n",
            "Epoch 80/100\n",
            "130/130 [==============================] - 22s 166ms/step - loss: 1.4905 - accuracy: 0.3258\n",
            "Epoch 81/100\n",
            "130/130 [==============================] - 22s 167ms/step - loss: 1.5050 - accuracy: 0.3185\n",
            "Epoch 82/100\n",
            "130/130 [==============================] - 22s 167ms/step - loss: 1.5004 - accuracy: 0.3247\n",
            "Epoch 83/100\n",
            "130/130 [==============================] - 21s 165ms/step - loss: 1.5016 - accuracy: 0.3229\n",
            "Epoch 84/100\n",
            "130/130 [==============================] - 21s 165ms/step - loss: 1.4954 - accuracy: 0.3351\n",
            "Epoch 85/100\n",
            "130/130 [==============================] - 21s 165ms/step - loss: 1.4908 - accuracy: 0.3443\n",
            "Epoch 86/100\n",
            "130/130 [==============================] - 21s 165ms/step - loss: 1.4957 - accuracy: 0.3221\n",
            "Epoch 87/100\n",
            "130/130 [==============================] - 21s 165ms/step - loss: 1.4929 - accuracy: 0.3174\n",
            "Epoch 88/100\n",
            "130/130 [==============================] - 21s 165ms/step - loss: 1.4990 - accuracy: 0.3326\n",
            "Epoch 89/100\n",
            "130/130 [==============================] - 21s 165ms/step - loss: 1.4938 - accuracy: 0.3232\n",
            "Epoch 90/100\n",
            "130/130 [==============================] - 21s 165ms/step - loss: 1.4976 - accuracy: 0.3151\n",
            "Epoch 91/100\n",
            "130/130 [==============================] - 21s 165ms/step - loss: 1.5114 - accuracy: 0.3199\n",
            "Epoch 92/100\n",
            "130/130 [==============================] - 21s 165ms/step - loss: 1.5043 - accuracy: 0.3137\n",
            "Epoch 93/100\n",
            "130/130 [==============================] - 21s 165ms/step - loss: 1.5116 - accuracy: 0.3291\n",
            "Epoch 94/100\n",
            "130/130 [==============================] - 21s 165ms/step - loss: 1.4920 - accuracy: 0.3301\n",
            "Epoch 95/100\n",
            "130/130 [==============================] - 21s 164ms/step - loss: 1.5010 - accuracy: 0.3209\n",
            "Epoch 96/100\n",
            "130/130 [==============================] - 22s 166ms/step - loss: 1.5077 - accuracy: 0.3277\n",
            "Epoch 97/100\n",
            "130/130 [==============================] - 21s 165ms/step - loss: 1.4934 - accuracy: 0.3344\n",
            "Epoch 98/100\n",
            "130/130 [==============================] - 21s 165ms/step - loss: 1.4818 - accuracy: 0.3396\n",
            "Epoch 99/100\n",
            "130/130 [==============================] - 22s 166ms/step - loss: 1.4917 - accuracy: 0.3295\n",
            "Epoch 100/100\n",
            "130/130 [==============================] - 21s 165ms/step - loss: 1.4980 - accuracy: 0.3224\n"
          ],
          "name": "stdout"
        }
      ]
    },
    {
      "cell_type": "code",
      "metadata": {
        "colab": {
          "base_uri": "https://localhost:8080/"
        },
        "id": "V32E6JAqyNdr",
        "outputId": "15b437b3-7f3c-4c82-f119-d19a0b2a1c72"
      },
      "source": [
        "history_dict = history.history\n",
        "history_dict.keys()\n",
        "[u'accuracy', u'loss']"
      ],
      "execution_count": 50,
      "outputs": [
        {
          "output_type": "execute_result",
          "data": {
            "text/plain": [
              "['accuracy', 'loss']"
            ]
          },
          "metadata": {
            "tags": []
          },
          "execution_count": 50
        }
      ]
    },
    {
      "cell_type": "code",
      "metadata": {
        "colab": {
          "base_uri": "https://localhost:8080/",
          "height": 301
        },
        "id": "MdeBC_dFyWip",
        "outputId": "98190878-ab1d-4579-ddf4-32e79c07a124"
      },
      "source": [
        "import matplotlib.pyplot as plt\n",
        "history_dict = history.history\n",
        "loss_values = history_dict['loss']\n",
        "val_accuracy = history_dict['accuracy']\n",
        "epochs = range(1, len(history_dict['accuracy']) + 1)\n",
        "plt.plot(epochs, loss_values, 'r', label='loss')\n",
        "plt.plot(epochs, val_accuracy, 'b', label='accuracy')\n",
        "plt.title('loss and accuracy')\n",
        "plt.xlabel('Epochs')\n",
        "plt.ylabel('Loss')\n",
        "plt.legend()\n",
        "plt.grid()\n",
        "plt.show()"
      ],
      "execution_count": 51,
      "outputs": [
        {
          "output_type": "display_data",
          "data": {
            "image/png": "[encoded data removed]",
            "text/plain": [
              "<Figure size 432x288 with 1 Axes>"
            ]
          },
          "metadata": {
            "tags": [],
            "needs_background": "light"
          }
        }
      ]
    },
    {
      "cell_type": "code",
      "metadata": {
        "colab": {
          "base_uri": "https://localhost:8080/"
        },
        "id": "RdfC_L-iysVB",
        "outputId": "a2b02bf4-3d96-45a1-92ad-ce55de2a185a"
      },
      "source": [
        "network_model.evaluate(X_test,y_test)"
      ],
      "execution_count": 60,
      "outputs": [
        {
          "output_type": "stream",
          "text": [
            "55/55 [==============================] - 2s 36ms/step - loss: 1.5139 - accuracy: 0.3237\n"
          ],
          "name": "stdout"
        },
        {
          "output_type": "execute_result",
          "data": {
            "text/plain": [
              "[1.5138792991638184, 0.323699414730072]"
            ]
          },
          "metadata": {
            "tags": []
          },
          "execution_count": 60
        }
      ]
    },
    {
      "cell_type": "code",
      "metadata": {
        "colab": {
          "base_uri": "https://localhost:8080/"
        },
        "id": "noQGjqD5yyNi",
        "outputId": "32747da6-d879-492d-a2bc-226c53f12404"
      },
      "source": [
        "pred = network_model.predict_classes(X_test[:10])\n",
        "for i in range(len(pred)):\n",
        "    print(pred[i],'==>',y_test[i])"
      ],
      "execution_count": 61,
      "outputs": [
        {
          "output_type": "stream",
          "text": [
            "2 ==> [0. 0. 1. 0. 0.]\n",
            "4 ==> [0. 0. 0. 1. 0.]\n",
            "2 ==> [0. 1. 0. 0. 0.]\n",
            "4 ==> [0. 0. 0. 0. 1.]\n",
            "4 ==> [0. 0. 0. 0. 1.]\n",
            "1 ==> [0. 1. 0. 0. 0.]\n",
            "4 ==> [0. 1. 0. 0. 0.]\n",
            "1 ==> [0. 1. 0. 0. 0.]\n",
            "2 ==> [0. 0. 0. 1. 0.]\n",
            "4 ==> [1. 0. 0. 0. 0.]\n"
          ],
          "name": "stdout"
        },
        {
          "output_type": "stream",
          "text": [
            "/usr/local/lib/python3.7/dist-packages/tensorflow/python/keras/engine/sequential.py:450: UserWarning: `model.predict_classes()` is deprecated and will be removed after 2021-01-01. Please use instead:* `np.argmax(model.predict(x), axis=-1)`,   if your model does multi-class classification   (e.g. if it uses a `softmax` last-layer activation).* `(model.predict(x) > 0.5).astype(\"int32\")`,   if your model does binary classification   (e.g. if it uses a `sigmoid` last-layer activation).\n",
            "  warnings.warn('`model.predict_classes()` is deprecated and '\n"
          ],
          "name": "stderr"
        }
      ]
    }
  ]
}
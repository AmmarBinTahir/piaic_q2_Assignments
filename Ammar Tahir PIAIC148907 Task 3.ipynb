{
 "cells": [
  {
   "cell_type": "code",
   "execution_count": 1,
   "metadata": {},
   "outputs": [],
   "source": [
    "# Election Results¶\n",
    "# You’re part of an impartial research group that conducts phone surveys prior to local elections. \n",
    "# During this election season, the group conducted a survey to determine how many people would vote for I_Khan vs. S_Sharif in the presidential election.\n",
    "# Now that the election has occurred, your group wants to compare the survey responses to the actual results.\n",
    "# Was your survey a good indicator? Let’s find out!\n",
    "\n",
    "#PROJECT STEPS\n",
    "\n",
    "# 1.First, import numpy and matplotlib.\n",
    "\n",
    "\n",
    "import numpy as np\n",
    "import matplotlib as plt"
   ]
  },
  {
   "cell_type": "code",
   "execution_count": 9,
   "metadata": {},
   "outputs": [
    {
     "data": {
      "text/plain": [
       "33"
      ]
     },
     "execution_count": 9,
     "metadata": {},
     "output_type": "execute_result"
    }
   ],
   "source": [
    "# 2.There is a list given of the different survey responses.\n",
    "\n",
    "# Calculate the number of people who answered ‘I_Khan’ and save the answer to the variable total_Khan.\n",
    "\n",
    "# Print the variable to the terminal to see its value.\n",
    "\n",
    "\n",
    "survey_responses = ['I_Khan', 'S_Sharif', 'I_Khan', 'I_Khan', 'I_Khan','S_Sharif',\n",
    "                    'S_Sharif', 'I_Khan', 'I_Khan', 'I_Khan', 'S_Sharif', 'S_Sharif',\n",
    "                    'I_Khan', 'I_Khan', 'S_Sharif', 'S_Sharif','I_Khan', 'I_Khan', \n",
    "                    'S_Sharif', 'S_Sharif', 'S_Sharif', 'S_Sharif', 'S_Sharif', 'S_Sharif', \n",
    "                    'I_Khan', 'I_Khan', 'I_Khan', 'I_Khan', 'I_Khan', 'I_Khan',\n",
    "                    'S_Sharif', 'S_Sharif', 'I_Khan', 'I_Khan', 'I_Khan', 'S_Sharif',\n",
    "                    'S_Sharif', 'I_Khan', 'I_Khan', 'S_Sharif', 'S_Sharif', 'I_Khan', \n",
    "                    'I_Khan', 'S_Sharif', 'S_Sharif', 'S_Sharif', 'S_Sharif', 'S_Sharif',\n",
    "                    'S_Sharif', 'I_Khan','S_Sharif', 'S_Sharif', 'I_Khan', 'I_Khan', \n",
    "                    'I_Khan', 'S_Sharif', 'S_Sharif', 'I_Khan', 'I_Khan', 'S_Sharif', \n",
    "                    'S_Sharif', 'I_Khan', 'I_Khan', 'S_Sharif', 'S_Sharif', 'S_Sharif', \n",
    "                    'S_Sharif', 'S_Sharif', 'S_Sharif', 'I_Khan']\n",
    "\n",
    "#changing survey_resposnse to I_khan and S_sharif\n",
    "\n",
    "for i, _ in enumerate(survey_responses):\n",
    "    if survey_responses[i] == 'I_Khan':\n",
    "        survey_responses[i]='I_Khan'\n",
    "    else:\n",
    "        survey_responses[i]='S_Sharif'\n",
    "\n",
    "survey_responses = np.array(survey_responses)\n",
    "total_Khan = survey_responses[survey_responses == 'I_Khan'].size\n",
    "total_Khan"
   ]
  },
  {
   "cell_type": "code",
   "execution_count": 10,
   "metadata": {},
   "outputs": [
    {
     "name": "stdout",
     "output_type": "stream",
     "text": [
      "47.14285714285714\n",
      "47.14285714285714\n"
     ]
    }
   ],
   "source": [
    "# 3.Calculate the percentage of people in the survey who voted for I_Khan and save it to the variable percentage_I_Khan.\n",
    "\n",
    "# Print the variable to the terminal to see its value\n",
    "\n",
    "\n",
    "percentage_I_Khan = (total_Khan/survey_responses.size)*100\n",
    "print(percentage_I_Khan)\n",
    "#or\n",
    "percentage_I_Khan = np.mean(survey_responses == 'I_Khan')*100\n",
    "print(percentage_I_Khan)"
   ]
  },
  {
   "cell_type": "code",
   "execution_count": 11,
   "metadata": {},
   "outputs": [
    {
     "data": {
      "text/plain": [
       "array([0.54285714, 0.54285714, 0.48571429, ..., 0.52857143, 0.64285714,\n",
       "       0.5       ])"
      ]
     },
     "execution_count": 11,
     "metadata": {},
     "output_type": "execute_result"
    }
   ],
   "source": [
    "# 4.In the real election, 54% of the 10,000 town population voted for I_Khan. Your supervisors are concerned because this is a very different outcome than what the poll predicted. \n",
    "#They want you to determine if there is something wrong with the poll or if given the sample size, it was an entirely reasonable result.\n",
    "\n",
    "#Generate a binomial distribution that takes the number of total survey responses, the actual success rate, and the size of the town’s population as its parameters.\n",
    "#Then divide the distribution by the number of survey responses. Save your calculation to the variable possible_surveys.\n",
    "\n",
    "### hint\n",
    "# possible_surveys = np.random.binomial(total of survey responses, the actual success rate,and the size of the town’s population )\n",
    "\n",
    "\n",
    "possible_surveys = np.random.binomial(survey_responses.size,.54,10000)/survey_responses.size\n",
    "possible_surveys"
   ]
  },
  {
   "cell_type": "code",
   "execution_count": 12,
   "metadata": {},
   "outputs": [
    {
     "data": {
      "text/plain": [
       "(array([0.000e+00, 0.000e+00, 0.000e+00, 0.000e+00, 0.000e+00, 1.000e+00,\n",
       "        1.000e+01, 7.300e+01, 5.930e+02, 1.455e+03, 3.525e+03, 3.019e+03,\n",
       "        9.980e+02, 3.040e+02, 2.000e+01, 2.000e+00, 0.000e+00, 0.000e+00,\n",
       "        0.000e+00, 0.000e+00]),\n",
       " array([0.  , 0.05, 0.1 , 0.15, 0.2 , 0.25, 0.3 , 0.35, 0.4 , 0.45, 0.5 ,\n",
       "        0.55, 0.6 , 0.65, 0.7 , 0.75, 0.8 , 0.85, 0.9 , 0.95, 1.  ]),\n",
       " <a list of 20 Patch objects>)"
      ]
     },
     "execution_count": 12,
     "metadata": {},
     "output_type": "execute_result"
    },
    {
     "data": {
      "image/png": "[encoded data removed]",
      "text/plain": [
       "<Figure size 432x288 with 1 Axes>"
      ]
     },
     "metadata": {
      "needs_background": "light"
     },
     "output_type": "display_data"
    }
   ],
   "source": [
    "#######Optional########\n",
    "\n",
    "# 5.By using matplotlib Plot a histogram of possible_surveys with a range of 0-1 and 20 bins.\n",
    "\n",
    "\n",
    "import matplotlib.pyplot as plt\n",
    "%matplotlib inline\n",
    "plt.hist(possible_surveys, range=(0,1), bins=20)"
   ]
  },
  {
   "cell_type": "code",
   "execution_count": 13,
   "metadata": {},
   "outputs": [
    {
     "name": "stdout",
     "output_type": "stream",
     "text": [
      "21.32\n",
      "21.32\n"
     ]
    }
   ],
   "source": [
    "\n",
    "# 6.As we saw, 47% of people we surveyed said they would vote for I_Khan, but 54% of people voted for I_Khan in the actual election.\n",
    "\n",
    "# Calculate the percentage of surveys that could have an outcome of I_Khan receiving less than 50% of the vote and save it to the variable I_Khan_loss_surveys.\n",
    "\n",
    "# Print the variable to the terminal.\n",
    "\n",
    "I_Khan_loss_surveys = (possible_surveys[possible_surveys < .50].size / possible_surveys.size)*100\n",
    "print(I_Khan_loss_surveys)\n",
    "#or \n",
    "I_Khan_loss_surveys = np.mean(possible_surveys < .50)*100\n",
    "print(I_Khan_loss_surveys)"
   ]
  },
  {
   "cell_type": "code",
   "execution_count": 15,
   "metadata": {},
   "outputs": [
    {
     "data": {
      "text/plain": [
       "(array([   0.,    0.,    0.,    0.,    0.,    0.,    0.,    0.,    0.,\n",
       "           0., 9540.,  460.,    0.,    0.,    0.,    0.,    0.,    0.,\n",
       "           0.,    0.]),\n",
       " array([0.  , 0.05, 0.1 , 0.15, 0.2 , 0.25, 0.3 , 0.35, 0.4 , 0.45, 0.5 ,\n",
       "        0.55, 0.6 , 0.65, 0.7 , 0.75, 0.8 , 0.85, 0.9 , 0.95, 1.  ]),\n",
       " <a list of 20 Patch objects>)"
      ]
     },
     "execution_count": 15,
     "metadata": {},
     "output_type": "execute_result"
    },
    {
     "data": {
      "image/png": "[encoded data removed]",
      "text/plain": [
       "<Figure size 432x288 with 1 Axes>"
      ]
     },
     "metadata": {
      "needs_background": "light"
     },
     "output_type": "display_data"
    }
   ],
   "source": [
    "# 7.With this current poll, about 20% of the time a survey output would predict S_Sharif winning, even if I_Khan won the actual election.\n",
    "\n",
    "# Your co-worker points out that your poll would be more accurate if it had more responders.\n",
    "\n",
    "# Generate another binomial distribution, but this time, see what would happen if you had instead surveyed 7,000 people. \n",
    "#Divide the distribution by the size of the survey and save your findings to large_survey.\n",
    "\n",
    "responders = 7000\n",
    "large_survey = np.random.binomial(responders, 0.54, 10000)/responders\n",
    "large_survey\n",
    "\n",
    "plt.hist(large_survey, range=(0,1),bins=20)"
   ]
  },
  {
   "cell_type": "code",
   "execution_count": 16,
   "metadata": {},
   "outputs": [
    {
     "data": {
      "text/plain": [
       "0.0"
      ]
     },
     "execution_count": 16,
     "metadata": {},
     "output_type": "execute_result"
    }
   ],
   "source": [
    "# 8.Now, recalculate the percentage of surveys that would have an outcome of I_Khan losing and save it to the variable I_Khan_loss_new, and print the value to the terminal.\n",
    "\n",
    "# What do we notice about this new value?\n",
    "\n",
    "# What advice would you give to your supervisors about predicting results from surveys?\n",
    "\n",
    "I_Khan_loss_new = np.mean(large_survey < .50)*100\n",
    "I_Khan_loss_new"
   ]
  },
  {
   "cell_type": "code",
   "execution_count": 21,
   "metadata": {},
   "outputs": [],
   "source": [
    "# 8.Now, recalculate the percentage of surveys that would have an outcome of I_Khan losing and save it to the variable I_Khan_loss_new, and print the value to the terminal.\n",
    "\n",
    "# What do we notice about this new value?\n",
    "\n",
    "# What advice would you give to your supervisors about predicting results from surveys?\n",
    "\n",
    "# Answer: it is prove that limited area survey of voters doesnot conclude who will win the election as data goes bigger the changes appear in voter choice."
   ]
  }
 ],
 "metadata": {
  "kernelspec": {
   "display_name": "Python 3",
   "language": "python",
   "name": "python3"
  },
  "language_info": {
   "codemirror_mode": {
    "name": "ipython",
    "version": 3
   },
   "file_extension": ".py",
   "mimetype": "text/x-python",
   "name": "python",
   "nbconvert_exporter": "python",
   "pygments_lexer": "ipython3",
   "version": "3.7.6"
  }
 },
 "nbformat": 4,
 "nbformat_minor": 4
}
